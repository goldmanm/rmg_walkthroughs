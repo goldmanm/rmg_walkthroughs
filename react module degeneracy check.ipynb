{
 "cells": [
  {
   "cell_type": "code",
   "execution_count": 9,
   "metadata": {
    "collapsed": true
   },
   "outputs": [],
   "source": [
    "from rmgpy import settings\n",
    "from rmgpy.data.kinetics.database import KineticsDatabase\n",
    "from rmgpy.data.base import DatabaseError\n",
    "import numpy\n",
    "from rmgpy.molecule.molecule import Molecule\n",
    "from rmgpy.data.rmg import RMGDatabase\n",
    "from rmgpy.rmg.react import findDegeneracies, reduceSameReactantDegeneracy, react, reactSpecies, _labelListOfSpecies\n",
    "from rmgpy.data.base import ForbiddenStructures\n",
    "from rmgpy.species import Species\n",
    "import os\n",
    "from IPython.display import display"
   ]
  },
  {
   "cell_type": "code",
   "execution_count": 2,
   "metadata": {
    "collapsed": false
   },
   "outputs": [],
   "source": [
    "database = RMGDatabase()\n",
    "database.load(\n",
    "    path=os.path.join(settings['test_data.directory'], 'testing_database'),\n",
    "    thermoLibraries=['primaryThermoLibrary'],\n",
    "    reactionLibraries=['GRI-Mech3.0'],\n",
    "    kineticsFamilies=[\n",
    "        'intra_H_migration'\n",
    "    ],\n",
    "    testing=True,\n",
    "    depository=False,\n",
    "    solvation=False,\n",
    ")\n",
    "#load empty forbidden structures to avoid any dependence on forbidden structures\n",
    "#for these tests\n",
    "for family in database.kinetics.families.values():\n",
    "    family.forbidden = ForbiddenStructures()\n",
    "database.forbiddenStructures = ForbiddenStructures()\n",
    "\n",
    "# Prepare the database by loading training reactions and averaging the rate rules\n",
    "for family in database.kinetics.families.values():\n",
    "    family.addKineticsRulesFromTrainingSet(thermoDatabase=database.thermo)\n",
    "    family.fillKineticsRulesByAveragingUp(verbose=True)"
   ]
  },
  {
   "cell_type": "code",
   "execution_count": 5,
   "metadata": {
    "collapsed": false
   },
   "outputs": [],
   "source": [
    "family = database.kinetics.families.values()[0]"
   ]
  },
  {
   "cell_type": "code",
   "execution_count": 13,
   "metadata": {
    "collapsed": true
   },
   "outputs": [],
   "source": [
    "from rmgpy.rmg.react import findDegeneracies,reactSpecies"
   ]
  },
  {
   "cell_type": "code",
   "execution_count": null,
   "metadata": {
    "collapsed": true
   },
   "outputs": [],
   "source": []
  },
  {
   "cell_type": "markdown",
   "metadata": {},
   "source": [
    "## try findDegeneracies"
   ]
  },
  {
   "cell_type": "code",
   "execution_count": 6,
   "metadata": {
    "collapsed": true
   },
   "outputs": [],
   "source": [
    "react_mol = Molecule().fromSMILES('C1C(=O)CCC1O[O]')"
   ]
  },
  {
   "cell_type": "code",
   "execution_count": 8,
   "metadata": {
    "collapsed": false
   },
   "outputs": [],
   "source": [
    "reactions = family.generateReactions(reactants=[react_mol])"
   ]
  },
  {
   "cell_type": "code",
   "execution_count": 12,
   "metadata": {
    "collapsed": false
   },
   "outputs": [
    {
     "data": {
      "image/png": "[encoded data removed]",
      "text/plain": [
       "TemplateReaction(reactants=[Molecule(SMILES=\"[O]OC1CCC(=O)C1\")], products=[Molecule(SMILES=\"O=C1[CH]CC(C1)OO\")], pairs=[[Molecule(SMILES=\"[O]OC1CCC(=O)C1\"), Molecule(SMILES=\"O=C1[CH]CC(C1)OO\")]], family='intra_H_migration', template=['R5H', 'O_rad_out', 'Cs_H_out'])"
      ]
     },
     "metadata": {},
     "output_type": "display_data"
    },
    {
     "data": {
      "image/png": "[encoded data removed]",
      "text/plain": [
       "TemplateReaction(reactants=[Molecule(SMILES=\"[O]OC1CCC(=O)C1\")], products=[Molecule(SMILES=\"O=C1[CH]CC(C1)OO\")], pairs=[[Molecule(SMILES=\"[O]OC1CCC(=O)C1\"), Molecule(SMILES=\"O=C1[CH]CC(C1)OO\")]], family='intra_H_migration', template=['R5H', 'O_rad_out', 'Cs_H_out'])"
      ]
     },
     "metadata": {},
     "output_type": "display_data"
    },
    {
     "data": {
      "image/png": "[encoded data removed]",
      "text/plain": [
       "TemplateReaction(reactants=[Molecule(SMILES=\"[O]OC1CCC(=O)C1\")], products=[Molecule(SMILES=\"O=C1[CH]CC(C1)OO\")], pairs=[[Molecule(SMILES=\"[O]OC1CCC(=O)C1\"), Molecule(SMILES=\"O=C1[CH]CC(C1)OO\")]], family='intra_H_migration', template=['R6H', 'O_rad_out', 'Cs_H_out'])"
      ]
     },
     "metadata": {},
     "output_type": "display_data"
    },
    {
     "data": {
      "image/png": "[encoded data removed]",
      "text/plain": [
       "TemplateReaction(reactants=[Molecule(SMILES=\"[O]OC1CCC(=O)C1\")], products=[Molecule(SMILES=\"O=C1[CH]CC(C1)OO\")], pairs=[[Molecule(SMILES=\"[O]OC1CCC(=O)C1\"), Molecule(SMILES=\"O=C1[CH]CC(C1)OO\")]], family='intra_H_migration', template=['R6H', 'O_rad_out', 'Cs_H_out'])"
      ]
     },
     "metadata": {},
     "output_type": "display_data"
    }
   ],
   "source": [
    "for rxn in reactions:\n",
    "    display(rxn)"
   ]
  },
  {
   "cell_type": "code",
   "execution_count": 14,
   "metadata": {
    "collapsed": false
   },
   "outputs": [
    {
     "data": {
      "text/plain": [
       "[TemplateReaction(reactants=[Species(label=\"\", molecule=[Molecule(SMILES=\"[O]OC1CCC(=O)C1\")])], products=[Species(label=\"\", molecule=[Molecule(SMILES=\"O=C1[CH]CC(C1)OO\"), Molecule(SMILES=\"[O]C1=CCC(C1)OO\")])], duplicate=True, degeneracy=2.0, pairs=[[Species(label=\"\", molecule=[Molecule(SMILES=\"[O]OC1CCC(=O)C1\")]), Species(label=\"\", molecule=[Molecule(SMILES=\"O=C1[CH]CC(C1)OO\"), Molecule(SMILES=\"[O]C1=CCC(C1)OO\")])]], family='intra_H_migration', template=['R5H', 'O_rad_out', 'Cs_H_out']),\n",
       " TemplateReaction(reactants=[Species(label=\"\", molecule=[Molecule(SMILES=\"[O]OC1CCC(=O)C1\")])], products=[Species(label=\"\", molecule=[Molecule(SMILES=\"O=C1[CH]CC(C1)OO\"), Molecule(SMILES=\"[O]C1=CCC(C1)OO\")])], duplicate=True, degeneracy=2.0, pairs=[[Species(label=\"\", molecule=[Molecule(SMILES=\"[O]OC1CCC(=O)C1\")]), Species(label=\"\", molecule=[Molecule(SMILES=\"O=C1[CH]CC(C1)OO\"), Molecule(SMILES=\"[O]C1=CCC(C1)OO\")])]], family='intra_H_migration', template=['R6H', 'O_rad_out', 'Cs_H_out'])]"
      ]
     },
     "execution_count": 14,
     "metadata": {},
     "output_type": "execute_result"
    }
   ],
   "source": [
    "findDegeneracies(rxnList=reactions)"
   ]
  },
  {
   "cell_type": "markdown",
   "metadata": {},
   "source": [
    "## try reactSpecies"
   ]
  },
  {
   "cell_type": "code",
   "execution_count": 16,
   "metadata": {
    "collapsed": true
   },
   "outputs": [],
   "source": [
    "react_spec = Species(molecule=[react_mol])"
   ]
  },
  {
   "cell_type": "code",
   "execution_count": 17,
   "metadata": {
    "collapsed": false
   },
   "outputs": [
    {
     "data": {
      "text/plain": [
       "[TemplateReaction(reactants=[Species(label=\"\", molecule=[Molecule(SMILES=\"[O]OC1CCC(=O)C1\")])], products=[Species(label=\"\", molecule=[Molecule(SMILES=\"O=C1[CH]CC(C1)OO\"), Molecule(SMILES=\"[O]C1=CCC(C1)OO\")])], duplicate=True, degeneracy=2.0, pairs=[(Species(label=\"\", molecule=[Molecule(SMILES=\"[O]OC1CCC(=O)C1\")]), Species(label=\"\", molecule=[Molecule(SMILES=\"O=C1[CH]CC(C1)OO\"), Molecule(SMILES=\"[O]C1=CCC(C1)OO\")]))], family='intra_H_migration', template=['R5H', 'O_rad_out', 'Cs_H_out']),\n",
       " TemplateReaction(reactants=[Species(label=\"\", molecule=[Molecule(SMILES=\"[O]OC1CCC(=O)C1\")])], products=[Species(label=\"\", molecule=[Molecule(SMILES=\"O=C1[CH]CC(C1)OO\"), Molecule(SMILES=\"[O]C1=CCC(C1)OO\")])], duplicate=True, degeneracy=2.0, pairs=[(Species(label=\"\", molecule=[Molecule(SMILES=\"[O]OC1CCC(=O)C1\")]), Species(label=\"\", molecule=[Molecule(SMILES=\"O=C1[CH]CC(C1)OO\"), Molecule(SMILES=\"[O]C1=CCC(C1)OO\")]))], family='intra_H_migration', template=['R6H', 'O_rad_out', 'Cs_H_out'])]"
      ]
     },
     "execution_count": 17,
     "metadata": {},
     "output_type": "execute_result"
    }
   ],
   "source": [
    "reactSpecies((react_spec,))"
   ]
  },
  {
   "cell_type": "code",
   "execution_count": null,
   "metadata": {
    "collapsed": true
   },
   "outputs": [],
   "source": []
  }
 ],
 "metadata": {
  "kernelspec": {
   "display_name": "Python [conda env:rmg_env]",
   "language": "python",
   "name": "conda-env-rmg_env-py"
  },
  "language_info": {
   "codemirror_mode": {
    "name": "ipython",
    "version": 2
   },
   "file_extension": ".py",
   "mimetype": "text/x-python",
   "name": "python",
   "nbconvert_exporter": "python",
   "pygments_lexer": "ipython2",
   "version": "2.7.13"
  },
  "toc": {
   "colors": {
    "hover_highlight": "#DAA520",
    "running_highlight": "#FF0000",
    "selected_highlight": "#FFD700"
   },
   "moveMenuLeft": true,
   "nav_menu": {
    "height": "38px",
    "width": "255px"
   },
   "navigate_menu": true,
   "number_sections": true,
   "sideBar": true,
   "threshold": 4,
   "toc_cell": false,
   "toc_section_display": "block",
   "toc_window_display": false
  }
 },
 "nbformat": 4,
 "nbformat_minor": 2
}
