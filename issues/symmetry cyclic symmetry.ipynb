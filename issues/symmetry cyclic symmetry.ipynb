{
 "cells": [
  {
   "cell_type": "markdown",
   "metadata": {
    "toc": "true"
   },
   "source": [
    "# Table of Contents\n",
    " <p><div class=\"lev1 toc-item\"><a href=\"#let's-look-at-many-examples\" data-toc-modified-id=\"let's-look-at-many-examples-1\"><span class=\"toc-item-num\">1&nbsp;&nbsp;</span>let's look at many examples</a></div><div class=\"lev1 toc-item\"><a href=\"#in-depth:-one-different-group\" data-toc-modified-id=\"in-depth:-one-different-group-2\"><span class=\"toc-item-num\">2&nbsp;&nbsp;</span>in depth: one different group</a></div><div class=\"lev1 toc-item\"><a href=\"#in-depth:-3-different-groups\" data-toc-modified-id=\"in-depth:-3-different-groups-3\"><span class=\"toc-item-num\">3&nbsp;&nbsp;</span>in depth: 3 different groups</a></div>"
   ]
  },
  {
   "cell_type": "markdown",
   "metadata": {},
   "source": [
    "This notebook works through the symmetry algorithm in RMG-Py 2.0 `rmgpy/molecule/symmetry/calculateCyclicSymmetryNumber` to highlight improper calculations of the algorithm.\n",
    "\n",
    "The algorithm comes from [page 244 of Yu, Joanna's Thesis](https://dspace.mit.edu/handle/1721.1/33715#files-area)"
   ]
  },
  {
   "cell_type": "code",
   "execution_count": 65,
   "metadata": {
    "collapsed": true
   },
   "outputs": [],
   "source": [
    "from rdkit.Chem.rdmolops import SanitizeMol\n",
    "from rdkit.Chem.rdchem import Mol \n",
    "import rmgpy.molecule\n",
    "from rmgpy.molecule import Molecule\n",
    "from rmgpy.molecule.symmetry import calculateCyclicSymmetryNumber"
   ]
  },
  {
   "cell_type": "markdown",
   "metadata": {},
   "source": [
    "# let's look at many examples"
   ]
  },
  {
   "cell_type": "markdown",
   "metadata": {},
   "source": [
    "this should have a symmetry number of 2"
   ]
  },
  {
   "cell_type": "code",
   "execution_count": 67,
   "metadata": {
    "collapsed": false
   },
   "outputs": [
    {
     "data": {
      "image/png": "[encoded data removed]",
      "text/plain": [
       "Molecule(SMILES=\"O=C1CCCCC1\")"
      ]
     },
     "execution_count": 67,
     "metadata": {},
     "output_type": "execute_result"
    }
   ],
   "source": [
    "s1 = Molecule().fromSMILES('C1CCCCC1=O')\n",
    "s1"
   ]
  },
  {
   "cell_type": "code",
   "execution_count": 68,
   "metadata": {
    "collapsed": false
   },
   "outputs": [
    {
     "data": {
      "text/plain": [
       "1"
      ]
     },
     "execution_count": 68,
     "metadata": {},
     "output_type": "execute_result"
    }
   ],
   "source": [
    "calculateCyclicSymmetryNumber(s1)"
   ]
  },
  {
   "cell_type": "markdown",
   "metadata": {},
   "source": [
    "**wrong**"
   ]
  },
  {
   "cell_type": "markdown",
   "metadata": {},
   "source": [
    "***\n",
    "\n",
    "this should have a symmetry number of 2"
   ]
  },
  {
   "cell_type": "code",
   "execution_count": 70,
   "metadata": {
    "collapsed": false
   },
   "outputs": [
    {
     "data": {
      "image/png": "[encoded data removed]",
      "text/plain": [
       "Molecule(SMILES=\"O=C1CCCCC1=O\")"
      ]
     },
     "execution_count": 70,
     "metadata": {},
     "output_type": "execute_result"
    }
   ],
   "source": [
    "s1 = Molecule().fromSMILES('C1CCCC(=O)C1=O')\n",
    "s1"
   ]
  },
  {
   "cell_type": "code",
   "execution_count": 71,
   "metadata": {
    "collapsed": false
   },
   "outputs": [
    {
     "data": {
      "text/plain": [
       "2"
      ]
     },
     "execution_count": 71,
     "metadata": {},
     "output_type": "execute_result"
    }
   ],
   "source": [
    "calculateCyclicSymmetryNumber(s1)"
   ]
  },
  {
   "cell_type": "markdown",
   "metadata": {},
   "source": [
    "**correct**"
   ]
  },
  {
   "cell_type": "markdown",
   "metadata": {},
   "source": [
    "***\n",
    "\n",
    "this should have a symmetry number of 2"
   ]
  },
  {
   "cell_type": "code",
   "execution_count": 72,
   "metadata": {
    "collapsed": false
   },
   "outputs": [
    {
     "data": {
      "image/png": "[encoded data removed]",
      "text/plain": [
       "Molecule(SMILES=\"O=C1CCCC(=O)C1=O\")"
      ]
     },
     "execution_count": 72,
     "metadata": {},
     "output_type": "execute_result"
    }
   ],
   "source": [
    "s1 = Molecule().fromSMILES('C1CCC(=O)C(=O)C1=O')\n",
    "s1"
   ]
  },
  {
   "cell_type": "code",
   "execution_count": 73,
   "metadata": {
    "collapsed": false
   },
   "outputs": [
    {
     "data": {
      "text/plain": [
       "3"
      ]
     },
     "execution_count": 73,
     "metadata": {},
     "output_type": "execute_result"
    }
   ],
   "source": [
    "calculateCyclicSymmetryNumber(s1)"
   ]
  },
  {
   "cell_type": "markdown",
   "metadata": {},
   "source": [
    "**wrong**"
   ]
  },
  {
   "cell_type": "markdown",
   "metadata": {},
   "source": [
    "***\n",
    "\n",
    "this should have a symmetry number of 3"
   ]
  },
  {
   "cell_type": "code",
   "execution_count": 74,
   "metadata": {
    "collapsed": false
   },
   "outputs": [
    {
     "data": {
      "image/png": "[encoded data removed]",
      "text/plain": [
       "Molecule(SMILES=\"O=C1CC(=O)CC(=O)C1\")"
      ]
     },
     "execution_count": 74,
     "metadata": {},
     "output_type": "execute_result"
    }
   ],
   "source": [
    "s1 = Molecule().fromSMILES('C1C(=O)CC(=O)CC1=O')\n",
    "s1"
   ]
  },
  {
   "cell_type": "code",
   "execution_count": 75,
   "metadata": {
    "collapsed": false,
    "scrolled": true
   },
   "outputs": [
    {
     "data": {
      "text/plain": [
       "3"
      ]
     },
     "execution_count": 75,
     "metadata": {},
     "output_type": "execute_result"
    }
   ],
   "source": [
    "calculateCyclicSymmetryNumber(s1)"
   ]
  },
  {
   "cell_type": "markdown",
   "metadata": {},
   "source": [
    "**correct**"
   ]
  },
  {
   "cell_type": "markdown",
   "metadata": {},
   "source": [
    "***\n",
    "\n",
    "this should have a symmetry number of 2"
   ]
  },
  {
   "cell_type": "code",
   "execution_count": 78,
   "metadata": {
    "collapsed": false
   },
   "outputs": [
    {
     "data": {
      "image/png": "[encoded data removed]",
      "text/plain": [
       "Molecule(SMILES=\"O=C1CC(=O)C(=O)C1\")"
      ]
     },
     "execution_count": 78,
     "metadata": {},
     "output_type": "execute_result"
    }
   ],
   "source": [
    "s1 = Molecule().fromSMILES('C1C(=O)C(=O)CC1=O')\n",
    "s1"
   ]
  },
  {
   "cell_type": "code",
   "execution_count": 79,
   "metadata": {
    "collapsed": false
   },
   "outputs": [
    {
     "data": {
      "text/plain": [
       "2"
      ]
     },
     "execution_count": 79,
     "metadata": {},
     "output_type": "execute_result"
    }
   ],
   "source": [
    "calculateCyclicSymmetryNumber(s1)"
   ]
  },
  {
   "cell_type": "markdown",
   "metadata": {},
   "source": [
    "**correct**"
   ]
  },
  {
   "cell_type": "markdown",
   "metadata": {},
   "source": [
    "***\n",
    "\n",
    "this should have a symmetry number of 2"
   ]
  },
  {
   "cell_type": "code",
   "execution_count": 82,
   "metadata": {
    "collapsed": false
   },
   "outputs": [
    {
     "data": {
      "image/png": "[encoded data removed]",
      "text/plain": [
       "Molecule(SMILES=\"O=C1CCCC1\")"
      ]
     },
     "execution_count": 82,
     "metadata": {},
     "output_type": "execute_result"
    }
   ],
   "source": [
    "s1 = Molecule().fromSMILES('C1CCCC1=O')\n",
    "s1"
   ]
  },
  {
   "cell_type": "code",
   "execution_count": 83,
   "metadata": {
    "collapsed": false
   },
   "outputs": [
    {
     "data": {
      "text/plain": [
       "1"
      ]
     },
     "execution_count": 83,
     "metadata": {},
     "output_type": "execute_result"
    }
   ],
   "source": [
    "calculateCyclicSymmetryNumber(s1)"
   ]
  },
  {
   "cell_type": "markdown",
   "metadata": {},
   "source": [
    "**wrong**"
   ]
  },
  {
   "cell_type": "markdown",
   "metadata": {},
   "source": [
    "***\n",
    "\n",
    "this should have a symmetry number of 1"
   ]
  },
  {
   "cell_type": "code",
   "execution_count": 87,
   "metadata": {
    "collapsed": false
   },
   "outputs": [
    {
     "data": {
      "image/png": "[encoded data removed]",
      "text/plain": [
       "Molecule(SMILES=\"O=C1CCOC(=O)O1\")"
      ]
     },
     "execution_count": 87,
     "metadata": {},
     "output_type": "execute_result"
    }
   ],
   "source": [
    "s1 = Molecule().fromSMILES('C1COC(=O)OC1=O')\n",
    "s1"
   ]
  },
  {
   "cell_type": "code",
   "execution_count": 88,
   "metadata": {
    "collapsed": false,
    "scrolled": true
   },
   "outputs": [
    {
     "data": {
      "text/plain": [
       "2"
      ]
     },
     "execution_count": 88,
     "metadata": {},
     "output_type": "execute_result"
    }
   ],
   "source": [
    "calculateCyclicSymmetryNumber(s1)"
   ]
  },
  {
   "cell_type": "markdown",
   "metadata": {},
   "source": [
    "**wrong**"
   ]
  },
  {
   "cell_type": "markdown",
   "metadata": {},
   "source": [
    "***\n",
    "\n",
    "this should have a symmetry number of 2"
   ]
  },
  {
   "cell_type": "code",
   "execution_count": 91,
   "metadata": {
    "collapsed": false
   },
   "outputs": [
    {
     "data": {
      "image/png": "[encoded data removed]",
      "text/plain": [
       "Molecule(SMILES=\"O=C1CC(=O)OCO1\")"
      ]
     },
     "execution_count": 91,
     "metadata": {},
     "output_type": "execute_result"
    }
   ],
   "source": [
    "s1 = Molecule().fromSMILES('O1COC(=O)CC1=O')\n",
    "s1"
   ]
  },
  {
   "cell_type": "code",
   "execution_count": 90,
   "metadata": {
    "collapsed": false,
    "scrolled": true
   },
   "outputs": [
    {
     "data": {
      "text/plain": [
       "2"
      ]
     },
     "execution_count": 90,
     "metadata": {},
     "output_type": "execute_result"
    }
   ],
   "source": [
    "calculateCyclicSymmetryNumber(s1)"
   ]
  },
  {
   "cell_type": "markdown",
   "metadata": {},
   "source": [
    "**correct**"
   ]
  },
  {
   "cell_type": "markdown",
   "metadata": {},
   "source": [
    "# in depth: one different group"
   ]
  },
  {
   "cell_type": "markdown",
   "metadata": {},
   "source": [
    "The molecule should have a symmetry of 2 (the axis of symmetry down the molecule). The program only returns a value of 1"
   ]
  },
  {
   "cell_type": "code",
   "execution_count": 12,
   "metadata": {
    "collapsed": false
   },
   "outputs": [
    {
     "data": {
      "image/png": "[encoded data removed]",
      "text/plain": [
       "Molecule(SMILES=\"O=C1CCCCC1\")"
      ]
     },
     "execution_count": 12,
     "metadata": {},
     "output_type": "execute_result"
    }
   ],
   "source": [
    "non_aromatic = Molecule().fromSMILES('C1CCCCC1=O')\n",
    "structure = non_aromatic.copy(True)\n",
    "non_aromatic"
   ]
  },
  {
   "cell_type": "code",
   "execution_count": 15,
   "metadata": {
    "collapsed": false
   },
   "outputs": [],
   "source": [
    "ring = structure.getSmallestSetOfSmallestRings()[0]"
   ]
  },
  {
   "cell_type": "code",
   "execution_count": 39,
   "metadata": {
    "collapsed": false
   },
   "outputs": [],
   "source": [
    "symmetryNumber = 1\n",
    "\n",
    "# remove bonds in ring\n",
    "for i, atom1 in enumerate(ring):\n",
    "    for atom2 in ring[i+1:]:\n",
    "        if structure.hasBond(atom1, atom2):\n",
    "            structure.removeBond(atom1.edges[atom2])"
   ]
  },
  {
   "cell_type": "code",
   "execution_count": 19,
   "metadata": {
    "collapsed": false
   },
   "outputs": [
    {
     "data": {
      "text/plain": [
       "[Molecule(SMILES=\"[C-]#[O+]\", multiplicity=-187),\n",
       " Molecule(SMILES=\"C\", multiplicity=-187),\n",
       " Molecule(SMILES=\"C\", multiplicity=-187),\n",
       " Molecule(SMILES=\"C\", multiplicity=-187),\n",
       " Molecule(SMILES=\"C\", multiplicity=-187),\n",
       " Molecule(SMILES=\"C\", multiplicity=-187)]"
      ]
     },
     "execution_count": 19,
     "metadata": {},
     "output_type": "execute_result"
    }
   ],
   "source": [
    "structures = structure.split()\n",
    "structures"
   ]
  },
  {
   "cell_type": "code",
   "execution_count": 20,
   "metadata": {
    "collapsed": true
   },
   "outputs": [],
   "source": [
    "# find what is attached to each carbon\n",
    "groups = []\n",
    "for struct in structures:\n",
    "    for atom in ring:\n",
    "        if struct.hasAtom(atom): struct.removeAtom(atom)\n",
    "    groups.append(struct.split())"
   ]
  },
  {
   "cell_type": "code",
   "execution_count": 21,
   "metadata": {
    "collapsed": false
   },
   "outputs": [
    {
     "data": {
      "text/plain": [
       "[[Molecule(SMILES=\"O\", multiplicity=-187)],\n",
       " [Molecule(SMILES=\"[HH]\", multiplicity=-187),\n",
       "  Molecule(SMILES=\"[HH]\", multiplicity=-187)],\n",
       " [Molecule(SMILES=\"[HH]\", multiplicity=-187),\n",
       "  Molecule(SMILES=\"[HH]\", multiplicity=-187)],\n",
       " [Molecule(SMILES=\"[HH]\", multiplicity=-187),\n",
       "  Molecule(SMILES=\"[HH]\", multiplicity=-187)],\n",
       " [Molecule(SMILES=\"[HH]\", multiplicity=-187),\n",
       "  Molecule(SMILES=\"[HH]\", multiplicity=-187)],\n",
       " [Molecule(SMILES=\"[HH]\", multiplicity=-187),\n",
       "  Molecule(SMILES=\"[HH]\", multiplicity=-187)]]"
      ]
     },
     "execution_count": 21,
     "metadata": {},
     "output_type": "execute_result"
    }
   ],
   "source": [
    "groups"
   ]
  },
  {
   "cell_type": "code",
   "execution_count": 22,
   "metadata": {
    "collapsed": true
   },
   "outputs": [],
   "source": [
    "# group the same groups together\n",
    "\n",
    "equivalentGroups = []; equivalentGroupCount = []\n",
    "for group in groups:\n",
    "    found = False\n",
    "    for i, eqGroup in enumerate(equivalentGroups):\n",
    "        if not found and len(group) == len(eqGroup):\n",
    "            for g, eg in zip(group, eqGroup):\n",
    "                if not g.isIsomorphic(eg):\n",
    "                    # The groups do not match\n",
    "                    break\n",
    "            else:\n",
    "                # The groups match\n",
    "                found = True\n",
    "        if found:\n",
    "            # We've found a matching group, so increment its count\n",
    "            equivalentGroupCount[i] += 1        \n",
    "            break\n",
    "    else:\n",
    "        # No matching group found, so add it as a new group\n",
    "        equivalentGroups.append(group)\n",
    "        equivalentGroupCount.append(1)"
   ]
  },
  {
   "cell_type": "code",
   "execution_count": 24,
   "metadata": {
    "collapsed": false
   },
   "outputs": [
    {
     "data": {
      "text/plain": [
       "[[Molecule(SMILES=\"O\", multiplicity=-187)],\n",
       " [Molecule(SMILES=\"[HH]\", multiplicity=-187),\n",
       "  Molecule(SMILES=\"[HH]\", multiplicity=-187)],\n",
       " [Molecule(SMILES=\"[HH]\", multiplicity=-187),\n",
       "  Molecule(SMILES=\"[HH]\", multiplicity=-187)]]"
      ]
     },
     "execution_count": 24,
     "metadata": {},
     "output_type": "execute_result"
    }
   ],
   "source": [
    "equivalentGroups"
   ]
  },
  {
   "cell_type": "markdown",
   "metadata": {},
   "source": [
    "Why is it finding the last two as different?"
   ]
  },
  {
   "cell_type": "code",
   "execution_count": 25,
   "metadata": {
    "collapsed": false
   },
   "outputs": [
    {
     "data": {
      "text/plain": [
       "[1, 2, 3]"
      ]
     },
     "execution_count": 25,
     "metadata": {},
     "output_type": "execute_result"
    }
   ],
   "source": [
    "equivalentGroupCount"
   ]
  },
  {
   "cell_type": "code",
   "execution_count": 32,
   "metadata": {
    "collapsed": false
   },
   "outputs": [],
   "source": [
    "# find bond symmetry on ring\n",
    "\n",
    "ring0 = non_aromatic.getSmallestSetOfSmallestRings()[0]\n",
    "molecule = non_aromatic\n",
    "\n",
    "equivalentBonds = []\n",
    "for i, atom1 in enumerate(ring0):\n",
    "    for atom2 in ring0[i+1:]:\n",
    "        if molecule.hasBond(atom1, atom2):\n",
    "            bond = molecule.getBond(atom1, atom2)\n",
    "            found = False\n",
    "            for eqBond in equivalentBonds:\n",
    "                if not found:\n",
    "                    if bond.equivalent(eqBond[0]):\n",
    "                        eqBond.append(group)\n",
    "                        found = True\n",
    "            if not found:\n",
    "                equivalentBonds.append([bond])"
   ]
  },
  {
   "cell_type": "code",
   "execution_count": 33,
   "metadata": {
    "collapsed": false
   },
   "outputs": [
    {
     "data": {
      "text/plain": [
       "[[<Bond \"S\">,\n",
       "  [Molecule(SMILES=\"[HH]\", multiplicity=-187),\n",
       "   Molecule(SMILES=\"[HH]\", multiplicity=-187)],\n",
       "  [Molecule(SMILES=\"[HH]\", multiplicity=-187),\n",
       "   Molecule(SMILES=\"[HH]\", multiplicity=-187)],\n",
       "  [Molecule(SMILES=\"[HH]\", multiplicity=-187),\n",
       "   Molecule(SMILES=\"[HH]\", multiplicity=-187)],\n",
       "  [Molecule(SMILES=\"[HH]\", multiplicity=-187),\n",
       "   Molecule(SMILES=\"[HH]\", multiplicity=-187)],\n",
       "  [Molecule(SMILES=\"[HH]\", multiplicity=-187),\n",
       "   Molecule(SMILES=\"[HH]\", multiplicity=-187)]]]"
      ]
     },
     "execution_count": 33,
     "metadata": {},
     "output_type": "execute_result"
    }
   ],
   "source": [
    "equivalentBonds"
   ]
  },
  {
   "cell_type": "code",
   "execution_count": 34,
   "metadata": {
    "collapsed": true
   },
   "outputs": [],
   "source": [
    "minEquivalentGroups = min(equivalentGroupCount)\n",
    "maxEquivalentGroups = max(equivalentGroupCount)\n",
    "minEquivalentBonds = None\n",
    "maxEquivalentBonds = 0"
   ]
  },
  {
   "cell_type": "code",
   "execution_count": 43,
   "metadata": {
    "collapsed": false
   },
   "outputs": [
    {
     "data": {
      "text/plain": [
       "1"
      ]
     },
     "execution_count": 43,
     "metadata": {},
     "output_type": "execute_result"
    }
   ],
   "source": [
    "minEquivalentGroups"
   ]
  },
  {
   "cell_type": "code",
   "execution_count": 44,
   "metadata": {
    "collapsed": false
   },
   "outputs": [
    {
     "data": {
      "text/plain": [
       "3"
      ]
     },
     "execution_count": 44,
     "metadata": {},
     "output_type": "execute_result"
    }
   ],
   "source": [
    "maxEquivalentGroups"
   ]
  },
  {
   "cell_type": "code",
   "execution_count": 35,
   "metadata": {
    "collapsed": true
   },
   "outputs": [],
   "source": [
    "for bonds in equivalentBonds:\n",
    "    N = len(bonds)\n",
    "    if minEquivalentBonds is None or N < minEquivalentBonds:\n",
    "        minEquivalentBonds = N\n",
    "    if N > maxEquivalentBonds:\n",
    "        maxEquivalentBonds = N"
   ]
  },
  {
   "cell_type": "code",
   "execution_count": 41,
   "metadata": {
    "collapsed": false
   },
   "outputs": [
    {
     "data": {
      "text/plain": [
       "6"
      ]
     },
     "execution_count": 41,
     "metadata": {},
     "output_type": "execute_result"
    }
   ],
   "source": [
    "minEquivalentBonds"
   ]
  },
  {
   "cell_type": "code",
   "execution_count": 42,
   "metadata": {
    "collapsed": false
   },
   "outputs": [
    {
     "data": {
      "text/plain": [
       "6"
      ]
     },
     "execution_count": 42,
     "metadata": {},
     "output_type": "execute_result"
    }
   ],
   "source": [
    "maxEquivalentBonds"
   ]
  },
  {
   "cell_type": "code",
   "execution_count": 40,
   "metadata": {
    "collapsed": false
   },
   "outputs": [],
   "source": [
    "if maxEquivalentGroups == maxEquivalentBonds == len(ring):\n",
    "    symmetryNumber *= len(ring) * 2\n",
    "else:\n",
    "    symmetryNumber *= min(minEquivalentGroups, minEquivalentBonds)\n"
   ]
  },
  {
   "cell_type": "markdown",
   "metadata": {},
   "source": [
    "Note that the molecule is assumed to not have symmetry since it only found a minimum of one equivalent group"
   ]
  },
  {
   "cell_type": "markdown",
   "metadata": {},
   "source": [
    "# in depth: 3 different groups"
   ]
  },
  {
   "cell_type": "code",
   "execution_count": 2,
   "metadata": {
    "collapsed": true
   },
   "outputs": [],
   "source": [
    "from rdkit.Chem.rdmolops import SanitizeMol\n",
    "from rdkit.Chem.rdchem import Mol \n",
    "import rmgpy.molecule\n",
    "from rmgpy.molecule import Molecule"
   ]
  },
  {
   "cell_type": "code",
   "execution_count": 45,
   "metadata": {
    "collapsed": false
   },
   "outputs": [
    {
     "data": {
      "image/png": "[encoded data removed]",
      "text/plain": [
       "Molecule(SMILES=\"O=C1CCCC(=O)C1=O\")"
      ]
     },
     "execution_count": 45,
     "metadata": {},
     "output_type": "execute_result"
    }
   ],
   "source": [
    "non_aromatic = Molecule().fromSMILES('C1CCC(=O)C(=O)C1=O')\n",
    "structure = non_aromatic.copy(True)\n",
    "non_aromatic"
   ]
  },
  {
   "cell_type": "code",
   "execution_count": 46,
   "metadata": {
    "collapsed": false
   },
   "outputs": [],
   "source": [
    "ring = structure.getSmallestSetOfSmallestRings()[0]"
   ]
  },
  {
   "cell_type": "code",
   "execution_count": 47,
   "metadata": {
    "collapsed": false
   },
   "outputs": [],
   "source": [
    "symmetryNumber = 1\n",
    "\n",
    "# remove bonds in ring\n",
    "for i, atom1 in enumerate(ring):\n",
    "    for atom2 in ring[i+1:]:\n",
    "        if structure.hasBond(atom1, atom2):\n",
    "            structure.removeBond(atom1.edges[atom2])"
   ]
  },
  {
   "cell_type": "code",
   "execution_count": 48,
   "metadata": {
    "collapsed": false
   },
   "outputs": [
    {
     "data": {
      "text/plain": [
       "[Molecule(SMILES=\"C\", multiplicity=-187),\n",
       " Molecule(SMILES=\"C\", multiplicity=-187),\n",
       " Molecule(SMILES=\"C\", multiplicity=-187),\n",
       " Molecule(SMILES=\"[C-]#[O+]\", multiplicity=-187),\n",
       " Molecule(SMILES=\"[C-]#[O+]\", multiplicity=-187),\n",
       " Molecule(SMILES=\"[C-]#[O+]\", multiplicity=-187)]"
      ]
     },
     "execution_count": 48,
     "metadata": {},
     "output_type": "execute_result"
    }
   ],
   "source": [
    "structures = structure.split()\n",
    "structures"
   ]
  },
  {
   "cell_type": "code",
   "execution_count": 49,
   "metadata": {
    "collapsed": true
   },
   "outputs": [],
   "source": [
    "# find what is attached to each carbon\n",
    "groups = []\n",
    "for struct in structures:\n",
    "    for atom in ring:\n",
    "        if struct.hasAtom(atom): struct.removeAtom(atom)\n",
    "    groups.append(struct.split())"
   ]
  },
  {
   "cell_type": "code",
   "execution_count": 50,
   "metadata": {
    "collapsed": false
   },
   "outputs": [
    {
     "data": {
      "text/plain": [
       "[[Molecule(SMILES=\"[HH]\", multiplicity=-187),\n",
       "  Molecule(SMILES=\"[HH]\", multiplicity=-187)],\n",
       " [Molecule(SMILES=\"[HH]\", multiplicity=-187),\n",
       "  Molecule(SMILES=\"[HH]\", multiplicity=-187)],\n",
       " [Molecule(SMILES=\"[HH]\", multiplicity=-187),\n",
       "  Molecule(SMILES=\"[HH]\", multiplicity=-187)],\n",
       " [Molecule(SMILES=\"O\", multiplicity=-187)],\n",
       " [Molecule(SMILES=\"O\", multiplicity=-187)],\n",
       " [Molecule(SMILES=\"O\", multiplicity=-187)]]"
      ]
     },
     "execution_count": 50,
     "metadata": {},
     "output_type": "execute_result"
    }
   ],
   "source": [
    "groups"
   ]
  },
  {
   "cell_type": "code",
   "execution_count": 51,
   "metadata": {
    "collapsed": true
   },
   "outputs": [],
   "source": [
    "# group the same groups together\n",
    "\n",
    "equivalentGroups = []; equivalentGroupCount = []\n",
    "for group in groups:\n",
    "    found = False\n",
    "    for i, eqGroup in enumerate(equivalentGroups):\n",
    "        if not found and len(group) == len(eqGroup):\n",
    "            for g, eg in zip(group, eqGroup):\n",
    "                if not g.isIsomorphic(eg):\n",
    "                    # The groups do not match\n",
    "                    break\n",
    "            else:\n",
    "                # The groups match\n",
    "                found = True\n",
    "        if found:\n",
    "            # We've found a matching group, so increment its count\n",
    "            equivalentGroupCount[i] += 1        \n",
    "            break\n",
    "    else:\n",
    "        # No matching group found, so add it as a new group\n",
    "        equivalentGroups.append(group)\n",
    "        equivalentGroupCount.append(1)"
   ]
  },
  {
   "cell_type": "code",
   "execution_count": 52,
   "metadata": {
    "collapsed": false
   },
   "outputs": [
    {
     "data": {
      "text/plain": [
       "[[Molecule(SMILES=\"[HH]\", multiplicity=-187),\n",
       "  Molecule(SMILES=\"[HH]\", multiplicity=-187)],\n",
       " [Molecule(SMILES=\"O\", multiplicity=-187)]]"
      ]
     },
     "execution_count": 52,
     "metadata": {},
     "output_type": "execute_result"
    }
   ],
   "source": [
    "equivalentGroups"
   ]
  },
  {
   "cell_type": "markdown",
   "metadata": {},
   "source": [
    "Why is it finding the last two as different?"
   ]
  },
  {
   "cell_type": "code",
   "execution_count": 53,
   "metadata": {
    "collapsed": false
   },
   "outputs": [
    {
     "data": {
      "text/plain": [
       "[3, 3]"
      ]
     },
     "execution_count": 53,
     "metadata": {},
     "output_type": "execute_result"
    }
   ],
   "source": [
    "equivalentGroupCount"
   ]
  },
  {
   "cell_type": "code",
   "execution_count": 54,
   "metadata": {
    "collapsed": false
   },
   "outputs": [],
   "source": [
    "# find bond symmetry on ring\n",
    "\n",
    "ring0 = non_aromatic.getSmallestSetOfSmallestRings()[0]\n",
    "molecule = non_aromatic\n",
    "\n",
    "equivalentBonds = []\n",
    "for i, atom1 in enumerate(ring0):\n",
    "    for atom2 in ring0[i+1:]:\n",
    "        if molecule.hasBond(atom1, atom2):\n",
    "            bond = molecule.getBond(atom1, atom2)\n",
    "            found = False\n",
    "            for eqBond in equivalentBonds:\n",
    "                if not found:\n",
    "                    if bond.equivalent(eqBond[0]):\n",
    "                        eqBond.append(group)\n",
    "                        found = True\n",
    "            if not found:\n",
    "                equivalentBonds.append([bond])"
   ]
  },
  {
   "cell_type": "code",
   "execution_count": 55,
   "metadata": {
    "collapsed": false
   },
   "outputs": [
    {
     "data": {
      "text/plain": [
       "[[<Bond \"S\">,\n",
       "  [Molecule(SMILES=\"O\", multiplicity=-187)],\n",
       "  [Molecule(SMILES=\"O\", multiplicity=-187)],\n",
       "  [Molecule(SMILES=\"O\", multiplicity=-187)],\n",
       "  [Molecule(SMILES=\"O\", multiplicity=-187)],\n",
       "  [Molecule(SMILES=\"O\", multiplicity=-187)]]]"
      ]
     },
     "execution_count": 55,
     "metadata": {},
     "output_type": "execute_result"
    }
   ],
   "source": [
    "equivalentBonds"
   ]
  },
  {
   "cell_type": "code",
   "execution_count": 56,
   "metadata": {
    "collapsed": true
   },
   "outputs": [],
   "source": [
    "minEquivalentGroups = min(equivalentGroupCount)\n",
    "maxEquivalentGroups = max(equivalentGroupCount)\n",
    "minEquivalentBonds = None\n",
    "maxEquivalentBonds = 0"
   ]
  },
  {
   "cell_type": "code",
   "execution_count": 57,
   "metadata": {
    "collapsed": false
   },
   "outputs": [
    {
     "data": {
      "text/plain": [
       "3"
      ]
     },
     "execution_count": 57,
     "metadata": {},
     "output_type": "execute_result"
    }
   ],
   "source": [
    "minEquivalentGroups"
   ]
  },
  {
   "cell_type": "code",
   "execution_count": 58,
   "metadata": {
    "collapsed": false
   },
   "outputs": [
    {
     "data": {
      "text/plain": [
       "3"
      ]
     },
     "execution_count": 58,
     "metadata": {},
     "output_type": "execute_result"
    }
   ],
   "source": [
    "maxEquivalentGroups"
   ]
  },
  {
   "cell_type": "code",
   "execution_count": 59,
   "metadata": {
    "collapsed": true
   },
   "outputs": [],
   "source": [
    "for bonds in equivalentBonds:\n",
    "    N = len(bonds)\n",
    "    if minEquivalentBonds is None or N < minEquivalentBonds:\n",
    "        minEquivalentBonds = N\n",
    "    if N > maxEquivalentBonds:\n",
    "        maxEquivalentBonds = N"
   ]
  },
  {
   "cell_type": "code",
   "execution_count": 60,
   "metadata": {
    "collapsed": false
   },
   "outputs": [
    {
     "data": {
      "text/plain": [
       "6"
      ]
     },
     "execution_count": 60,
     "metadata": {},
     "output_type": "execute_result"
    }
   ],
   "source": [
    "minEquivalentBonds"
   ]
  },
  {
   "cell_type": "code",
   "execution_count": 61,
   "metadata": {
    "collapsed": false
   },
   "outputs": [
    {
     "data": {
      "text/plain": [
       "6"
      ]
     },
     "execution_count": 61,
     "metadata": {},
     "output_type": "execute_result"
    }
   ],
   "source": [
    "maxEquivalentBonds"
   ]
  },
  {
   "cell_type": "code",
   "execution_count": 62,
   "metadata": {
    "collapsed": false
   },
   "outputs": [],
   "source": [
    "if maxEquivalentGroups == maxEquivalentBonds == len(ring):\n",
    "    symmetryNumber *= len(ring) * 2\n",
    "else:\n",
    "    symmetryNumber *= min(minEquivalentGroups, minEquivalentBonds)\n"
   ]
  },
  {
   "cell_type": "code",
   "execution_count": 63,
   "metadata": {
    "collapsed": false,
    "scrolled": true
   },
   "outputs": [
    {
     "data": {
      "text/plain": [
       "3"
      ]
     },
     "execution_count": 63,
     "metadata": {},
     "output_type": "execute_result"
    }
   ],
   "source": [
    "symmetryNumber"
   ]
  },
  {
   "cell_type": "markdown",
   "metadata": {},
   "source": [
    "Note that the molecule is assumed to have extra symmetry since it has a minimum of 3 identical groups"
   ]
  },
  {
   "cell_type": "code",
   "execution_count": null,
   "metadata": {
    "collapsed": true
   },
   "outputs": [],
   "source": []
  }
 ],
 "metadata": {
  "kernelspec": {
   "display_name": "Python 2",
   "language": "python",
   "name": "python2"
  },
  "language_info": {
   "codemirror_mode": {
    "name": "ipython",
    "version": 2
   },
   "file_extension": ".py",
   "mimetype": "text/x-python",
   "name": "python",
   "nbconvert_exporter": "python",
   "pygments_lexer": "ipython2",
   "version": "2.7.12"
  },
  "toc": {
   "nav_menu": {
    "height": "65px",
    "width": "253px"
   },
   "navigate_menu": true,
   "number_sections": true,
   "sideBar": true,
   "threshold": 4,
   "toc_cell": true,
   "toc_section_display": "block",
   "toc_window_display": true
  }
 },
 "nbformat": 4,
 "nbformat_minor": 1
}
