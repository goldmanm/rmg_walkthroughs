{
 "cells": [
  {
   "cell_type": "markdown",
   "metadata": {
    "toc": "true"
   },
   "source": [
    "# Table of Contents\n",
    " <p><div class=\"lev1 toc-item\"><a href=\"#setup\" data-toc-modified-id=\"setup-1\"><span class=\"toc-item-num\">1&nbsp;&nbsp;</span>setup</a></div><div class=\"lev1 toc-item\"><a href=\"#isIsomorphic-code\" data-toc-modified-id=\"isIsomorphic-code-2\"><span class=\"toc-item-num\">2&nbsp;&nbsp;</span>isIsomorphic code</a></div><div class=\"lev1 toc-item\"><a href=\"#compare-time-of-original-algorithm\" data-toc-modified-id=\"compare-time-of-original-algorithm-3\"><span class=\"toc-item-num\">3&nbsp;&nbsp;</span>compare time of original algorithm</a></div><div class=\"lev1 toc-item\"><a href=\"#compare-time-of-new-algorithm\" data-toc-modified-id=\"compare-time-of-new-algorithm-4\"><span class=\"toc-item-num\">4&nbsp;&nbsp;</span>compare time of new algorithm</a></div>"
   ]
  },
  {
   "cell_type": "markdown",
   "metadata": {},
   "source": [
    "This notebook compares the efficiency of two methods to compare reaction isomorphism, to see the time benefits of it. Two similar H_abstraction reactions are created and compared to look at time efficiency."
   ]
  },
  {
   "cell_type": "markdown",
   "metadata": {},
   "source": [
    "# setup"
   ]
  },
  {
   "cell_type": "code",
   "execution_count": 1,
   "metadata": {
    "collapsed": false
   },
   "outputs": [],
   "source": [
    "from rmgpy.species import Species\n",
    "from rmgpy.reaction import Reaction\n",
    "from cProfile import run"
   ]
  },
  {
   "cell_type": "code",
   "execution_count": 2,
   "metadata": {
    "collapsed": true
   },
   "outputs": [],
   "source": [
    "r1 = Species().fromSMILES('C=CC=CC=CC=CC=C[CH2]')\n",
    "r2 = Species().fromSMILES('C=CC=CC=CC=C[CH2]')\n",
    "p1 = Species().fromSMILES('C=CC=CC=CC=CC')\n",
    "p2a = Species().fromSMILES('C=CC=CC=CC=CC=C=C')\n",
    "p2b = Species().fromSMILES('C=C=C=CC=CC=CC=CC')\n",
    "species = [r1,r2,p1,p2a,p2b]\n",
    "for s in species: s.generateResonanceIsomers()"
   ]
  },
  {
   "cell_type": "code",
   "execution_count": 3,
   "metadata": {
    "collapsed": false
   },
   "outputs": [],
   "source": [
    "rxn1 = Reaction(reactants=[r1,r2], products = [p1, p2a])\n",
    "rxn2 = Reaction(reactants=[r1,r2], products = [p1, p2b])\n",
    "rxn1copy = rxn1.copy()\n",
    "rxn2swapped_reactants = Reaction(reactants=[r2,r1], products = [p1, p2b])\n"
   ]
  },
  {
   "cell_type": "markdown",
   "metadata": {},
   "source": [
    "# isIsomorphic code"
   ]
  },
  {
   "cell_type": "code",
   "execution_count": 4,
   "metadata": {
    "collapsed": true
   },
   "outputs": [],
   "source": [
    "def isIsomorphic(rxn1, other, eitherDirection=True, checkIdentical = False):\n",
    "        \"\"\"\n",
    "        Return ``True`` if this reaction is the same as the `other` reaction,\n",
    "        or ``False`` if they are different. The comparison involves comparing\n",
    "        isomorphism of reactants and products, and doesn't use any kinetic\n",
    "        information.\n",
    "\n",
    "        If `eitherDirection=False` then the directions must match.\n",
    "        \"\"\"\n",
    "\n",
    "        # Compare reactants to reactants\n",
    "        forwardReactantsMatch = _isomorphicSpeciesList(rxn1.reactants, \n",
    "                                    other.reactants,checkIdentical = checkIdentical)\n",
    "        \n",
    "        # Compare products to products\n",
    "        forwardProductsMatch = _isomorphicSpeciesList(rxn1.products, \n",
    "                                    other.products,checkIdentical = checkIdentical)\n",
    "\n",
    "        # Return now, if we can\n",
    "        if (forwardReactantsMatch and forwardProductsMatch):\n",
    "            return True\n",
    "        if not eitherDirection:\n",
    "            return False\n",
    "        \n",
    "        # Compare reactants to products\n",
    "        reverseReactantsMatch = _isomorphicSpeciesList(rxn1.reactants, \n",
    "                                    other.products,checkIdentical = checkIdentical)\n",
    "\n",
    "        # Compare products to reactants\n",
    "        reverseProductsMatch = _isomorphicSpeciesList(rxn1.products, \n",
    "                                    other.reactants,checkIdentical = checkIdentical)\n",
    "\n",
    "        # should have already returned if it matches forwards, or we're not allowed to match backwards\n",
    "        return  (reverseReactantsMatch and reverseProductsMatch)"
   ]
  },
  {
   "cell_type": "markdown",
   "metadata": {},
   "source": [
    "# compare time of original algorithm"
   ]
  },
  {
   "cell_type": "code",
   "execution_count": 5,
   "metadata": {
    "collapsed": true
   },
   "outputs": [],
   "source": [
    "def _isomorphicSpeciesList(list1, list2, checkIdentical=False):\n",
    "    \"\"\"\n",
    "    This method compares whether lists of species or molecules are isomorphic\n",
    "    or identical. It is used for the 'isIsomorphic' method of Reaction class.\n",
    "    It likely can be useful elswehere as well:\n",
    "        \n",
    "        list1 - list of species/molecule objects of reaction1\n",
    "        list2 - list of species/molecule objects of reaction2\n",
    "        checkIdentical - if true, uses the 'isIdentical' comparison\n",
    "                         if false, uses the 'isIsomorphic' comparison\n",
    "                         \n",
    "    Returns True if the lists are isomorphic/identical & false otherwise\n",
    "    \"\"\"\n",
    "\n",
    "    def comparison_method(other1, other2, checkIdentical=checkIdentical):\n",
    "        if checkIdentical:\n",
    "            return other1.isIdentical(other2)\n",
    "        else:\n",
    "            return other1.isIsomorphic(other2)\n",
    "\n",
    "    if len(list1) == len(list2) == 1:\n",
    "        if comparison_method(list1[0], list2[0]):\n",
    "            return True\n",
    "    elif len(list1) == len(list2) == 2:\n",
    "        if comparison_method(list1[0], list2[0]) \\\n",
    "                    and comparison_method(list1[1], list2[1]):\n",
    "            return True\n",
    "        elif comparison_method(list1[0], list2[1]) \\\n",
    "                    and comparison_method(list1[1], list2[0]):\n",
    "            return True\n",
    "    elif len(list1) == len(list2) == 3:\n",
    "        if (    comparison_method(list1[0], list2[0]) and\n",
    "                comparison_method(list1[1], list2[1]) and\n",
    "                comparison_method(list1[2], list2[2]) ):\n",
    "            return True\n",
    "        elif (  comparison_method(list1[0], list2[0]) and\n",
    "                comparison_method(list1[1], list2[2]) and\n",
    "                comparison_method(list1[2], list2[1]) ):\n",
    "            return True\n",
    "        elif (  comparison_method(list1[0], list2[1]) and\n",
    "                comparison_method(list1[1], list2[0]) and\n",
    "                comparison_method(list1[2], list2[2]) ):\n",
    "            return True\n",
    "        elif (  comparison_method(list1[0], list2[2]) and\n",
    "                comparison_method(list1[1], list2[0]) and\n",
    "                comparison_method(list1[2], list2[1]) ):\n",
    "            return True\n",
    "        elif (  comparison_method(list1[0], list2[1]) and\n",
    "                comparison_method(list1[1], list2[2]) and\n",
    "                comparison_method(list1[2], list2[0]) ):\n",
    "            return True\n",
    "        elif (  comparison_method(list1[0], list2[2]) and\n",
    "                comparison_method(list1[1], list2[1]) and\n",
    "                comparison_method(list1[2], list2[0]) ):\n",
    "            return True\n",
    "    elif len(list1) == len(list2):\n",
    "        raise NotImplementedError(\"Can't check isomorphism of lists with {0} species/molecules\".format(len(list1)))\n",
    "    # nothing found\n",
    "    return False"
   ]
  },
  {
   "cell_type": "code",
   "execution_count": 6,
   "metadata": {
    "collapsed": false,
    "scrolled": true
   },
   "outputs": [
    {
     "name": "stdout",
     "output_type": "stream",
     "text": [
      "         300003 function calls in 0.795 seconds\n",
      "\n",
      "   Ordered by: standard name\n",
      "\n",
      "   ncalls  tottime  percall  cumtime  percall filename:lineno(function)\n",
      "    10000    0.017    0.000    0.791    0.000 <ipython-input-4-95d0327e9f94>:1(isIsomorphic)\n",
      "    40000    0.059    0.000    0.773    0.000 <ipython-input-5-d3da26f90ae7>:1(_isomorphicSpeciesList)\n",
      "    90000    0.706    0.000    0.706    0.000 <ipython-input-5-d3da26f90ae7>:15(comparison_method)\n",
      "        1    0.005    0.005    0.795    0.795 <string>:1(<module>)\n",
      "   160000    0.008    0.000    0.008    0.000 {len}\n",
      "        1    0.000    0.000    0.000    0.000 {method 'disable' of '_lsprof.Profiler' objects}\n",
      "        1    0.000    0.000    0.000    0.000 {range}\n",
      "\n",
      "\n"
     ]
    }
   ],
   "source": [
    "run('for i in range(10000): isIsomorphic(rxn1,rxn2)',)"
   ]
  },
  {
   "cell_type": "code",
   "execution_count": 7,
   "metadata": {
    "collapsed": false,
    "scrolled": true
   },
   "outputs": [
    {
     "name": "stdout",
     "output_type": "stream",
     "text": [
      "         310003 function calls in 0.850 seconds\n",
      "\n",
      "   Ordered by: standard name\n",
      "\n",
      "   ncalls  tottime  percall  cumtime  percall filename:lineno(function)\n",
      "    10000    0.017    0.000    0.845    0.000 <ipython-input-4-95d0327e9f94>:1(isIsomorphic)\n",
      "    40000    0.061    0.000    0.828    0.000 <ipython-input-5-d3da26f90ae7>:1(_isomorphicSpeciesList)\n",
      "   100000    0.759    0.000    0.759    0.000 <ipython-input-5-d3da26f90ae7>:15(comparison_method)\n",
      "        1    0.005    0.005    0.850    0.850 <string>:1(<module>)\n",
      "   160000    0.008    0.000    0.008    0.000 {len}\n",
      "        1    0.000    0.000    0.000    0.000 {method 'disable' of '_lsprof.Profiler' objects}\n",
      "        1    0.000    0.000    0.000    0.000 {range}\n",
      "\n",
      "\n"
     ]
    }
   ],
   "source": [
    "run('for i in range(10000): isIsomorphic(rxn1,rxn2swapped_reactants)')"
   ]
  },
  {
   "cell_type": "code",
   "execution_count": 8,
   "metadata": {
    "collapsed": false,
    "scrolled": true
   },
   "outputs": [
    {
     "name": "stdout",
     "output_type": "stream",
     "text": [
      "         150003 function calls in 0.969 seconds\n",
      "\n",
      "   Ordered by: standard name\n",
      "\n",
      "   ncalls  tottime  percall  cumtime  percall filename:lineno(function)\n",
      "    10000    0.012    0.000    0.963    0.000 <ipython-input-4-95d0327e9f94>:1(isIsomorphic)\n",
      "    20000    0.033    0.000    0.951    0.000 <ipython-input-5-d3da26f90ae7>:1(_isomorphicSpeciesList)\n",
      "    40000    0.914    0.000    0.914    0.000 <ipython-input-5-d3da26f90ae7>:15(comparison_method)\n",
      "        1    0.006    0.006    0.969    0.969 <string>:1(<module>)\n",
      "    80000    0.004    0.000    0.004    0.000 {len}\n",
      "        1    0.000    0.000    0.000    0.000 {method 'disable' of '_lsprof.Profiler' objects}\n",
      "        1    0.000    0.000    0.000    0.000 {range}\n",
      "\n",
      "\n"
     ]
    }
   ],
   "source": [
    "run('for i in range(10000): isIsomorphic(rxn1,rxn1copy)')"
   ]
  },
  {
   "cell_type": "markdown",
   "metadata": {},
   "source": [
    "# compare time of new algorithm"
   ]
  },
  {
   "cell_type": "code",
   "execution_count": 9,
   "metadata": {
    "collapsed": true
   },
   "outputs": [],
   "source": [
    "def _isomorphicSpeciesList(list1, list2, checkIdentical=False):\n",
    "    \"\"\"\n",
    "    This method compares whether lists of species or molecules are isomorphic\n",
    "    or identical. It is used for the 'isIsomorphic' method of Reaction class.\n",
    "    It likely can be useful elswehere as well:\n",
    "        \n",
    "        list1 - list of species/molecule objects of reaction1\n",
    "        list2 - list of species/molecule objects of reaction2\n",
    "        checkIdentical - if true, uses the 'isIdentical' comparison\n",
    "                         if false, uses the 'isIsomorphic' comparison\n",
    "                         \n",
    "    Returns True if the lists are isomorphic/identical & false otherwise\n",
    "    \"\"\"\n",
    "\n",
    "    def comparison_method(other1, other2, checkIdentical=checkIdentical):\n",
    "        if checkIdentical:\n",
    "            return other1.isIdentical(other2)\n",
    "        else:\n",
    "            return other1.isIsomorphic(other2)\n",
    "\n",
    "    list2Temp = list2[:]\n",
    "    for entry in list1:\n",
    "       for entry2 in list2Temp:\n",
    "           if comparison_method(entry,entry2):\n",
    "               list2Temp.remove(entry2)\n",
    "               break\n",
    "       else: #loop doesn't break, something is missing\n",
    "             return False\n",
    "    #all loops completed\n",
    "    return True"
   ]
  },
  {
   "cell_type": "code",
   "execution_count": 10,
   "metadata": {
    "collapsed": false,
    "scrolled": true
   },
   "outputs": [
    {
     "name": "stdout",
     "output_type": "stream",
     "text": [
      "         160003 function calls in 0.769 seconds\n",
      "\n",
      "   Ordered by: standard name\n",
      "\n",
      "   ncalls  tottime  percall  cumtime  percall filename:lineno(function)\n",
      "    10000    0.019    0.000    0.765    0.000 <ipython-input-4-95d0327e9f94>:1(isIsomorphic)\n",
      "    40000    0.048    0.000    0.746    0.000 <ipython-input-9-8237654b1758>:1(_isomorphicSpeciesList)\n",
      "    80000    0.695    0.000    0.695    0.000 <ipython-input-9-8237654b1758>:15(comparison_method)\n",
      "        1    0.004    0.004    0.769    0.769 <string>:1(<module>)\n",
      "        1    0.000    0.000    0.000    0.000 {method 'disable' of '_lsprof.Profiler' objects}\n",
      "    30000    0.003    0.000    0.003    0.000 {method 'remove' of 'list' objects}\n",
      "        1    0.000    0.000    0.000    0.000 {range}\n",
      "\n",
      "\n"
     ]
    }
   ],
   "source": [
    "run('for i in range(10000): isIsomorphic(rxn1,rxn2)',)"
   ]
  },
  {
   "cell_type": "code",
   "execution_count": 11,
   "metadata": {
    "collapsed": false,
    "scrolled": true
   },
   "outputs": [
    {
     "name": "stdout",
     "output_type": "stream",
     "text": [
      "         170003 function calls in 0.832 seconds\n",
      "\n",
      "   Ordered by: standard name\n",
      "\n",
      "   ncalls  tottime  percall  cumtime  percall filename:lineno(function)\n",
      "    10000    0.019    0.000    0.827    0.000 <ipython-input-4-95d0327e9f94>:1(isIsomorphic)\n",
      "    40000    0.052    0.000    0.809    0.000 <ipython-input-9-8237654b1758>:1(_isomorphicSpeciesList)\n",
      "    90000    0.753    0.000    0.753    0.000 <ipython-input-9-8237654b1758>:15(comparison_method)\n",
      "        1    0.005    0.005    0.832    0.832 <string>:1(<module>)\n",
      "        1    0.000    0.000    0.000    0.000 {method 'disable' of '_lsprof.Profiler' objects}\n",
      "    30000    0.004    0.000    0.004    0.000 {method 'remove' of 'list' objects}\n",
      "        1    0.000    0.000    0.000    0.000 {range}\n",
      "\n",
      "\n"
     ]
    }
   ],
   "source": [
    "run('for i in range(10000): isIsomorphic(rxn1,rxn2swapped_reactants)')"
   ]
  },
  {
   "cell_type": "code",
   "execution_count": 12,
   "metadata": {
    "collapsed": false,
    "scrolled": true
   },
   "outputs": [
    {
     "name": "stdout",
     "output_type": "stream",
     "text": [
      "         110003 function calls in 0.949 seconds\n",
      "\n",
      "   Ordered by: standard name\n",
      "\n",
      "   ncalls  tottime  percall  cumtime  percall filename:lineno(function)\n",
      "    10000    0.012    0.000    0.944    0.000 <ipython-input-4-95d0327e9f94>:1(isIsomorphic)\n",
      "    20000    0.037    0.000    0.932    0.000 <ipython-input-9-8237654b1758>:1(_isomorphicSpeciesList)\n",
      "    40000    0.892    0.000    0.892    0.000 <ipython-input-9-8237654b1758>:15(comparison_method)\n",
      "        1    0.005    0.005    0.949    0.949 <string>:1(<module>)\n",
      "        1    0.000    0.000    0.000    0.000 {method 'disable' of '_lsprof.Profiler' objects}\n",
      "    40000    0.004    0.000    0.004    0.000 {method 'remove' of 'list' objects}\n",
      "        1    0.000    0.000    0.000    0.000 {range}\n",
      "\n",
      "\n"
     ]
    }
   ],
   "source": [
    "run('for i in range(10000): isIsomorphic(rxn1,rxn1copy)')"
   ]
  }
 ],
 "metadata": {
  "kernelspec": {
   "display_name": "Python 2",
   "language": "python",
   "name": "python2"
  },
  "language_info": {
   "codemirror_mode": {
    "name": "ipython",
    "version": 2
   },
   "file_extension": ".py",
   "mimetype": "text/x-python",
   "name": "python",
   "nbconvert_exporter": "python",
   "pygments_lexer": "ipython2",
   "version": "2.7.13"
  },
  "toc": {
   "nav_menu": {
    "height": "81px",
    "width": "254px"
   },
   "navigate_menu": true,
   "number_sections": true,
   "sideBar": true,
   "threshold": 4,
   "toc_cell": true,
   "toc_section_display": "block",
   "toc_window_display": false
  }
 },
 "nbformat": 4,
 "nbformat_minor": 0
}
