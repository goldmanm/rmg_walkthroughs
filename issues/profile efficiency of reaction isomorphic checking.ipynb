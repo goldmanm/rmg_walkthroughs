{
 "cells": [
  {
   "cell_type": "markdown",
   "metadata": {
    "toc": "true"
   },
   "source": [
    "# Table of Contents\n",
    " <p><div class=\"lev1 toc-item\"><a href=\"#setup\" data-toc-modified-id=\"setup-1\"><span class=\"toc-item-num\">1&nbsp;&nbsp;</span>setup</a></div><div class=\"lev1 toc-item\"><a href=\"#isIsomorphic-code\" data-toc-modified-id=\"isIsomorphic-code-2\"><span class=\"toc-item-num\">2&nbsp;&nbsp;</span>isIsomorphic code</a></div><div class=\"lev1 toc-item\"><a href=\"#compare-time-of-original-algorithm\" data-toc-modified-id=\"compare-time-of-original-algorithm-3\"><span class=\"toc-item-num\">3&nbsp;&nbsp;</span>compare time of original algorithm</a></div><div class=\"lev1 toc-item\"><a href=\"#compare-time-of-new-algorithm\" data-toc-modified-id=\"compare-time-of-new-algorithm-4\"><span class=\"toc-item-num\">4&nbsp;&nbsp;</span>compare time of new algorithm</a></div>"
   ]
  },
  {
   "cell_type": "markdown",
   "metadata": {},
   "source": [
    "This notebook compares the efficiency of two methods to compare reaction isomorphism, to see the time benefits of it. Two similar H_abstraction reactions are created and compared to look at time efficiency."
   ]
  },
  {
   "cell_type": "markdown",
   "metadata": {},
   "source": [
    "# setup"
   ]
  },
  {
   "cell_type": "code",
   "execution_count": 1,
   "metadata": {
    "collapsed": false
   },
   "outputs": [],
   "source": [
    "from rmgpy.species import Species\n",
    "from rmgpy.reaction import Reaction\n",
    "from cProfile import run"
   ]
  },
  {
   "cell_type": "code",
   "execution_count": 2,
   "metadata": {
    "collapsed": true
   },
   "outputs": [],
   "source": [
    "r1 = Species().fromSMILES('C=CC=CC=CC=CC=C[CH2]')\n",
    "r2 = Species().fromSMILES('C=CC=CC=CC=C[CH2]')\n",
    "p1 = Species().fromSMILES('C=CC=CC=CC=CC')\n",
    "p2a = Species().fromSMILES('C=CC=CC=CC=CC=C=C')\n",
    "p2b = Species().fromSMILES('C=C=CC=CC=CC=C=CC')\n",
    "species = [r1,r2,p1,p2a,p2b]\n",
    "for s in species: s.generateResonanceIsomers()"
   ]
  },
  {
   "cell_type": "code",
   "execution_count": 39,
   "metadata": {
    "collapsed": false
   },
   "outputs": [],
   "source": [
    "rxn1 = Reaction(reactants=[r1,r2], products = [p1, p2a])\n",
    "rxn2 = Reaction(reactants=[r1,r2], products = [p1, p2b])\n",
    "rxn1copy = rxn1.copy()\n",
    "rxn2swapped_reactants = Reaction(reactants=[r2,r1], products = [p2b, p1])\n"
   ]
  },
  {
   "cell_type": "markdown",
   "metadata": {},
   "source": [
    "# isIsomorphic code"
   ]
  },
  {
   "cell_type": "code",
   "execution_count": 40,
   "metadata": {
    "collapsed": true
   },
   "outputs": [],
   "source": [
    "def isIsomorphic(rxn1, other, eitherDirection=True, checkIdentical = False):\n",
    "        \"\"\"\n",
    "        Return ``True`` if this reaction is the same as the `other` reaction,\n",
    "        or ``False`` if they are different. The comparison involves comparing\n",
    "        isomorphism of reactants and products, and doesn't use any kinetic\n",
    "        information.\n",
    "\n",
    "        If `eitherDirection=False` then the directions must match.\n",
    "        \"\"\"\n",
    "\n",
    "        # Compare reactants to reactants\n",
    "        forwardReactantsMatch = _isomorphicSpeciesList(rxn1.reactants, \n",
    "                                    other.reactants,checkIdentical = checkIdentical)\n",
    "        \n",
    "        # Compare products to products\n",
    "        forwardProductsMatch = _isomorphicSpeciesList(rxn1.products, \n",
    "                                    other.products,checkIdentical = checkIdentical)\n",
    "\n",
    "        # Return now, if we can\n",
    "        if (forwardReactantsMatch and forwardProductsMatch):\n",
    "            return True\n",
    "        if not eitherDirection:\n",
    "            return False\n",
    "        \n",
    "        # Compare reactants to products\n",
    "        reverseReactantsMatch = _isomorphicSpeciesList(rxn1.reactants, \n",
    "                                    other.products,checkIdentical = checkIdentical)\n",
    "\n",
    "        # Compare products to reactants\n",
    "        reverseProductsMatch = _isomorphicSpeciesList(rxn1.products, \n",
    "                                    other.reactants,checkIdentical = checkIdentical)\n",
    "\n",
    "        # should have already returned if it matches forwards, or we're not allowed to match backwards\n",
    "        return  (reverseReactantsMatch and reverseProductsMatch)"
   ]
  },
  {
   "cell_type": "markdown",
   "metadata": {},
   "source": [
    "# compare time of original algorithm"
   ]
  },
  {
   "cell_type": "code",
   "execution_count": 41,
   "metadata": {
    "collapsed": true
   },
   "outputs": [],
   "source": [
    "def _isomorphicSpeciesList(list1, list2, checkIdentical=False):\n",
    "    \"\"\"\n",
    "    This method compares whether lists of species or molecules are isomorphic\n",
    "    or identical. It is used for the 'isIsomorphic' method of Reaction class.\n",
    "    It likely can be useful elswehere as well:\n",
    "        \n",
    "        list1 - list of species/molecule objects of reaction1\n",
    "        list2 - list of species/molecule objects of reaction2\n",
    "        checkIdentical - if true, uses the 'isIdentical' comparison\n",
    "                         if false, uses the 'isIsomorphic' comparison\n",
    "                         \n",
    "    Returns True if the lists are isomorphic/identical & false otherwise\n",
    "    \"\"\"\n",
    "\n",
    "    def comparison_method(other1, other2, checkIdentical=checkIdentical):\n",
    "        if checkIdentical:\n",
    "            return other1.isIdentical(other2)\n",
    "        else:\n",
    "            return other1.isIsomorphic(other2)\n",
    "\n",
    "    if len(list1) == len(list2) == 1:\n",
    "        if comparison_method(list1[0], list2[0]):\n",
    "            return True\n",
    "    elif len(list1) == len(list2) == 2:\n",
    "        if comparison_method(list1[0], list2[0]) \\\n",
    "                    and comparison_method(list1[1], list2[1]):\n",
    "            return True\n",
    "        elif comparison_method(list1[0], list2[1]) \\\n",
    "                    and comparison_method(list1[1], list2[0]):\n",
    "            return True\n",
    "    elif len(list1) == len(list2) == 3:\n",
    "        if (    comparison_method(list1[0], list2[0]) and\n",
    "                comparison_method(list1[1], list2[1]) and\n",
    "                comparison_method(list1[2], list2[2]) ):\n",
    "            return True\n",
    "        elif (  comparison_method(list1[0], list2[0]) and\n",
    "                comparison_method(list1[1], list2[2]) and\n",
    "                comparison_method(list1[2], list2[1]) ):\n",
    "            return True\n",
    "        elif (  comparison_method(list1[0], list2[1]) and\n",
    "                comparison_method(list1[1], list2[0]) and\n",
    "                comparison_method(list1[2], list2[2]) ):\n",
    "            return True\n",
    "        elif (  comparison_method(list1[0], list2[2]) and\n",
    "                comparison_method(list1[1], list2[0]) and\n",
    "                comparison_method(list1[2], list2[1]) ):\n",
    "            return True\n",
    "        elif (  comparison_method(list1[0], list2[1]) and\n",
    "                comparison_method(list1[1], list2[2]) and\n",
    "                comparison_method(list1[2], list2[0]) ):\n",
    "            return True\n",
    "        elif (  comparison_method(list1[0], list2[2]) and\n",
    "                comparison_method(list1[1], list2[1]) and\n",
    "                comparison_method(list1[2], list2[0]) ):\n",
    "            return True\n",
    "    elif len(list1) == len(list2):\n",
    "        raise NotImplementedError(\"Can't check isomorphism of lists with {0} species/molecules\".format(len(list1)))\n",
    "    # nothing found\n",
    "    return False"
   ]
  },
  {
   "cell_type": "code",
   "execution_count": 42,
   "metadata": {
    "collapsed": false,
    "scrolled": true
   },
   "outputs": [
    {
     "name": "stdout",
     "output_type": "stream",
     "text": [
      "         300003 function calls in 0.799 seconds\n",
      "\n",
      "   Ordered by: standard name\n",
      "\n",
      "   ncalls  tottime  percall  cumtime  percall filename:lineno(function)\n",
      "    10000    0.017    0.000    0.795    0.000 <ipython-input-40-95d0327e9f94>:1(isIsomorphic)\n",
      "    40000    0.059    0.000    0.778    0.000 <ipython-input-41-d3da26f90ae7>:1(_isomorphicSpeciesList)\n",
      "    90000    0.710    0.000    0.710    0.000 <ipython-input-41-d3da26f90ae7>:15(comparison_method)\n",
      "        1    0.004    0.004    0.799    0.799 <string>:1(<module>)\n",
      "   160000    0.008    0.000    0.008    0.000 {len}\n",
      "        1    0.000    0.000    0.000    0.000 {method 'disable' of '_lsprof.Profiler' objects}\n",
      "        1    0.000    0.000    0.000    0.000 {range}\n",
      "\n",
      "\n"
     ]
    }
   ],
   "source": [
    "run('for i in range(10000): isIsomorphic(rxn1,rxn2)',)"
   ]
  },
  {
   "cell_type": "code",
   "execution_count": 43,
   "metadata": {
    "collapsed": false,
    "scrolled": true
   },
   "outputs": [
    {
     "name": "stdout",
     "output_type": "stream",
     "text": [
      "         310003 function calls in 0.877 seconds\n",
      "\n",
      "   Ordered by: standard name\n",
      "\n",
      "   ncalls  tottime  percall  cumtime  percall filename:lineno(function)\n",
      "    10000    0.018    0.000    0.872    0.000 <ipython-input-40-95d0327e9f94>:1(isIsomorphic)\n",
      "    40000    0.062    0.000    0.855    0.000 <ipython-input-41-d3da26f90ae7>:1(_isomorphicSpeciesList)\n",
      "   100000    0.784    0.000    0.784    0.000 <ipython-input-41-d3da26f90ae7>:15(comparison_method)\n",
      "        1    0.005    0.005    0.877    0.877 <string>:1(<module>)\n",
      "   160000    0.008    0.000    0.008    0.000 {len}\n",
      "        1    0.000    0.000    0.000    0.000 {method 'disable' of '_lsprof.Profiler' objects}\n",
      "        1    0.000    0.000    0.000    0.000 {range}\n",
      "\n",
      "\n"
     ]
    }
   ],
   "source": [
    "run('for i in range(10000): isIsomorphic(rxn1,rxn2swapped_reactants)')"
   ]
  },
  {
   "cell_type": "code",
   "execution_count": 44,
   "metadata": {
    "collapsed": false,
    "scrolled": true
   },
   "outputs": [
    {
     "name": "stdout",
     "output_type": "stream",
     "text": [
      "         150003 function calls in 0.970 seconds\n",
      "\n",
      "   Ordered by: standard name\n",
      "\n",
      "   ncalls  tottime  percall  cumtime  percall filename:lineno(function)\n",
      "    10000    0.011    0.000    0.965    0.000 <ipython-input-40-95d0327e9f94>:1(isIsomorphic)\n",
      "    20000    0.031    0.000    0.954    0.000 <ipython-input-41-d3da26f90ae7>:1(_isomorphicSpeciesList)\n",
      "    40000    0.919    0.000    0.919    0.000 <ipython-input-41-d3da26f90ae7>:15(comparison_method)\n",
      "        1    0.005    0.005    0.970    0.970 <string>:1(<module>)\n",
      "    80000    0.004    0.000    0.004    0.000 {len}\n",
      "        1    0.000    0.000    0.000    0.000 {method 'disable' of '_lsprof.Profiler' objects}\n",
      "        1    0.000    0.000    0.000    0.000 {range}\n",
      "\n",
      "\n"
     ]
    }
   ],
   "source": [
    "run('for i in range(10000): isIsomorphic(rxn1,rxn1copy)')"
   ]
  },
  {
   "cell_type": "markdown",
   "metadata": {},
   "source": [
    "# compare time of new algorithm"
   ]
  },
  {
   "cell_type": "code",
   "execution_count": 45,
   "metadata": {
    "collapsed": true
   },
   "outputs": [],
   "source": [
    "def _isomorphicSpeciesList(list1, list2, checkIdentical=False):\n",
    "    \"\"\"\n",
    "    This method compares whether lists of species or molecules are isomorphic\n",
    "    or identical. It is used for the 'isIsomorphic' method of Reaction class.\n",
    "    It likely can be useful elswehere as well:\n",
    "        \n",
    "        list1 - list of species/molecule objects of reaction1\n",
    "        list2 - list of species/molecule objects of reaction2\n",
    "        checkIdentical - if true, uses the 'isIdentical' comparison\n",
    "                         if false, uses the 'isIsomorphic' comparison\n",
    "                         \n",
    "    Returns True if the lists are isomorphic/identical & false otherwise\n",
    "    \"\"\"\n",
    "\n",
    "    def comparison_method(other1, other2, checkIdentical=checkIdentical):\n",
    "        if checkIdentical:\n",
    "            return other1.isIdentical(other2)\n",
    "        else:\n",
    "            return other1.isIsomorphic(other2)\n",
    "\n",
    "    list2Temp = list2[:]\n",
    "    for entry in list1:\n",
    "       for index, entry2 in enumerate(list2Temp):\n",
    "           if comparison_method(entry,entry2):\n",
    "               del list2Temp[index]\n",
    "               break\n",
    "       else: #loop doesn't break, something is missing\n",
    "             return False\n",
    "    #all loops completed\n",
    "    return True"
   ]
  },
  {
   "cell_type": "code",
   "execution_count": 46,
   "metadata": {
    "collapsed": false,
    "scrolled": true
   },
   "outputs": [
    {
     "name": "stdout",
     "output_type": "stream",
     "text": [
      "         130003 function calls in 0.817 seconds\n",
      "\n",
      "   Ordered by: standard name\n",
      "\n",
      "   ncalls  tottime  percall  cumtime  percall filename:lineno(function)\n",
      "    10000    0.019    0.000    0.812    0.000 <ipython-input-40-95d0327e9f94>:1(isIsomorphic)\n",
      "    40000    0.067    0.000    0.793    0.000 <ipython-input-45-2de5dad1ee6b>:1(_isomorphicSpeciesList)\n",
      "    80000    0.726    0.000    0.726    0.000 <ipython-input-45-2de5dad1ee6b>:15(comparison_method)\n",
      "        1    0.005    0.005    0.817    0.817 <string>:1(<module>)\n",
      "        1    0.000    0.000    0.000    0.000 {method 'disable' of '_lsprof.Profiler' objects}\n",
      "        1    0.000    0.000    0.000    0.000 {range}\n",
      "\n",
      "\n"
     ]
    }
   ],
   "source": [
    "run('for i in range(10000): isIsomorphic(rxn1,rxn2)',)"
   ]
  },
  {
   "cell_type": "code",
   "execution_count": 47,
   "metadata": {
    "collapsed": false,
    "scrolled": true
   },
   "outputs": [
    {
     "name": "stdout",
     "output_type": "stream",
     "text": [
      "         150003 function calls in 0.887 seconds\n",
      "\n",
      "   Ordered by: standard name\n",
      "\n",
      "   ncalls  tottime  percall  cumtime  percall filename:lineno(function)\n",
      "    10000    0.019    0.000    0.882    0.000 <ipython-input-40-95d0327e9f94>:1(isIsomorphic)\n",
      "    40000    0.071    0.000    0.863    0.000 <ipython-input-45-2de5dad1ee6b>:1(_isomorphicSpeciesList)\n",
      "   100000    0.792    0.000    0.792    0.000 <ipython-input-45-2de5dad1ee6b>:15(comparison_method)\n",
      "        1    0.005    0.005    0.887    0.887 <string>:1(<module>)\n",
      "        1    0.000    0.000    0.000    0.000 {method 'disable' of '_lsprof.Profiler' objects}\n",
      "        1    0.000    0.000    0.000    0.000 {range}\n",
      "\n",
      "\n"
     ]
    }
   ],
   "source": [
    "run('for i in range(10000): isIsomorphic(rxn1,rxn2swapped_reactants)')"
   ]
  },
  {
   "cell_type": "code",
   "execution_count": 48,
   "metadata": {
    "collapsed": false,
    "scrolled": false
   },
   "outputs": [
    {
     "name": "stdout",
     "output_type": "stream",
     "text": [
      "         70003 function calls in 1.005 seconds\n",
      "\n",
      "   Ordered by: standard name\n",
      "\n",
      "   ncalls  tottime  percall  cumtime  percall filename:lineno(function)\n",
      "    10000    0.012    0.000    0.999    0.000 <ipython-input-40-95d0327e9f94>:1(isIsomorphic)\n",
      "    20000    0.048    0.000    0.988    0.000 <ipython-input-45-2de5dad1ee6b>:1(_isomorphicSpeciesList)\n",
      "    40000    0.940    0.000    0.940    0.000 <ipython-input-45-2de5dad1ee6b>:15(comparison_method)\n",
      "        1    0.005    0.005    1.005    1.005 <string>:1(<module>)\n",
      "        1    0.000    0.000    0.000    0.000 {method 'disable' of '_lsprof.Profiler' objects}\n",
      "        1    0.000    0.000    0.000    0.000 {range}\n",
      "\n",
      "\n"
     ]
    }
   ],
   "source": [
    "run('for i in range(10000): isIsomorphic(rxn1,rxn1copy)')"
   ]
  },
  {
   "cell_type": "code",
   "execution_count": null,
   "metadata": {
    "collapsed": true
   },
   "outputs": [],
   "source": []
  }
 ],
 "metadata": {
  "kernelspec": {
   "display_name": "Python 2",
   "language": "python",
   "name": "python2"
  },
  "language_info": {
   "codemirror_mode": {
    "name": "ipython",
    "version": 2
   },
   "file_extension": ".py",
   "mimetype": "text/x-python",
   "name": "python",
   "nbconvert_exporter": "python",
   "pygments_lexer": "ipython2",
   "version": "2.7.13"
  },
  "toc": {
   "nav_menu": {
    "height": "81px",
    "width": "254px"
   },
   "navigate_menu": true,
   "number_sections": true,
   "sideBar": true,
   "threshold": 4,
   "toc_cell": true,
   "toc_section_display": "block",
   "toc_window_display": false
  }
 },
 "nbformat": 4,
 "nbformat_minor": 0
}
