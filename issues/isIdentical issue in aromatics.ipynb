{
 "cells": [
  {
   "cell_type": "markdown",
   "metadata": {},
   "source": [
    "This guide shows a potential issue with the resonance generation keeping isomorphic and identical benzene structures.\n",
    "This was generated using the `reactBenzenes` branch on Feb 16 2017."
   ]
  },
  {
   "cell_type": "code",
   "execution_count": 2,
   "metadata": {
    "collapsed": true
   },
   "outputs": [],
   "source": [
    "from rmgpy.species import Species\n",
    "from rmgpy.molecule import Molecule, Atom, Bond"
   ]
  },
  {
   "cell_type": "code",
   "execution_count": 2,
   "metadata": {
    "collapsed": true
   },
   "outputs": [],
   "source": [
    "benzene = Molecule().fromSMILES('c1ccccc1')\n",
    "benzene.assignAtomIndices()\n",
    "resStruc = benzene.generateResonanceIsomers(keepIsomorphic=True)"
   ]
  },
  {
   "cell_type": "code",
   "execution_count": 3,
   "metadata": {
    "collapsed": false
   },
   "outputs": [
    {
     "data": {
      "image/png": "[encoded data removed]",
      "text/plain": [
       "Molecule(SMILES=\"C1=CC=CC=C1\")"
      ]
     },
     "execution_count": 3,
     "metadata": {},
     "output_type": "execute_result"
    }
   ],
   "source": [
    "resStruc[0]"
   ]
  },
  {
   "cell_type": "code",
   "execution_count": 4,
   "metadata": {
    "collapsed": false
   },
   "outputs": [
    {
     "data": {
      "image/png": "[encoded data removed]",
      "text/plain": [
       "Molecule(SMILES=\"c1ccccc1\")"
      ]
     },
     "execution_count": 4,
     "metadata": {},
     "output_type": "execute_result"
    }
   ],
   "source": [
    "resStruc[1]"
   ]
  },
  {
   "cell_type": "code",
   "execution_count": 5,
   "metadata": {
    "collapsed": false
   },
   "outputs": [
    {
     "data": {
      "image/png": "[encoded data removed]",
      "text/plain": [
       "Molecule(SMILES=\"C1=CC=CC=C1\")"
      ]
     },
     "execution_count": 5,
     "metadata": {},
     "output_type": "execute_result"
    }
   ],
   "source": [
    "resStruc[2]"
   ]
  },
  {
   "cell_type": "code",
   "execution_count": 6,
   "metadata": {
    "collapsed": false
   },
   "outputs": [
    {
     "data": {
      "text/plain": [
       "True"
      ]
     },
     "execution_count": 6,
     "metadata": {},
     "output_type": "execute_result"
    }
   ],
   "source": [
    "resStruc[0].isIsomorphic(resStruc[2])"
   ]
  },
  {
   "cell_type": "code",
   "execution_count": 7,
   "metadata": {
    "collapsed": false
   },
   "outputs": [
    {
     "data": {
      "text/plain": [
       "False"
      ]
     },
     "execution_count": 7,
     "metadata": {},
     "output_type": "execute_result"
    }
   ],
   "source": [
    "resStruc[0].isIdentical(resStruc[2])"
   ]
  },
  {
   "cell_type": "markdown",
   "metadata": {},
   "source": [
    "The previous line returns a non-deterministic result. I run it below 100 times and show the variation"
   ]
  },
  {
   "cell_type": "code",
   "execution_count": 8,
   "metadata": {
    "collapsed": false
   },
   "outputs": [
    {
     "data": {
      "text/plain": [
       "[Molecule(SMILES=\"C1=CC=CC=C1\"),\n",
       " Molecule(SMILES=\"c1ccccc1\"),\n",
       " Molecule(SMILES=\"C1=CC=CC=C1\")]"
      ]
     },
     "execution_count": 8,
     "metadata": {},
     "output_type": "execute_result"
    }
   ],
   "source": [
    "benzene.generateResonanceIsomers(keepIsomorphic=True)"
   ]
  },
  {
   "cell_type": "code",
   "execution_count": 10,
   "metadata": {
    "collapsed": false
   },
   "outputs": [
    {
     "name": "stdout",
     "output_type": "stream",
     "text": [
      "The resonance structures are identical 54 times\n",
      "The resonance structures are NOT identical 46 times\n"
     ]
    }
   ],
   "source": [
    "isIdenticalList = []\n",
    "\n",
    "for i in range(100):\n",
    "    resStruc = benzene.generateResonanceIsomers(keepIsomorphic=True)\n",
    "    identical = resStruc[0].isIdentical(resStruc[2])\n",
    "    isIdenticalList.append(identical)\n",
    "print 'The resonance structures are identical {} times'.format(isIdenticalList.count(True))\n",
    "print 'The resonance structures are NOT identical {} times'.format(isIdenticalList.count(False))"
   ]
  },
  {
   "cell_type": "markdown",
   "metadata": {},
   "source": [
    "## look at whether I can get better symmetry when it's not identical\n",
    "This is done on the `isotopeResonance` branch looking at resonance hybrids"
   ]
  },
  {
   "cell_type": "code",
   "execution_count": 3,
   "metadata": {
    "collapsed": false,
    "scrolled": true
   },
   "outputs": [],
   "source": [
    "benzene = Species().fromSMILES('c1ccccc1')"
   ]
  },
  {
   "cell_type": "code",
   "execution_count": 4,
   "metadata": {
    "collapsed": false
   },
   "outputs": [],
   "source": [
    "identical = True\n",
    "i = 0\n",
    "while i < 100 and identical:\n",
    "    benzene = Species().fromSMILES('c1ccccc1')\n",
    "    benzene.generateResonanceIsomers(keepIsomorphic=True)\n",
    "    identical = benzene.molecule[0].isIdentical(benzene.molecule[2])\n",
    "    i += 1\n",
    "if i==100:\n",
    "    raise Exception('The isomers were always identical')"
   ]
  },
  {
   "cell_type": "code",
   "execution_count": 5,
   "metadata": {
    "collapsed": false,
    "scrolled": true
   },
   "outputs": [
    {
     "data": {
      "text/plain": [
       "False"
      ]
     },
     "execution_count": 5,
     "metadata": {},
     "output_type": "execute_result"
    }
   ],
   "source": [
    "identical"
   ]
  },
  {
   "cell_type": "code",
   "execution_count": 6,
   "metadata": {
    "collapsed": false
   },
   "outputs": [
    {
     "name": "stdout",
     "output_type": "stream",
     "text": [
      "1.0\n",
      "False\n",
      "False\n",
      "1.5\n",
      "True\n",
      "True\n",
      "1.50000011921\n",
      "True\n",
      "True\n",
      "1.0\n",
      "False\n",
      "False\n",
      "1.50000011921\n",
      "True\n",
      "True\n",
      "1.5\n",
      "True\n",
      "True\n",
      "1.5\n",
      "True\n",
      "True\n",
      "1.50000011921\n",
      "True\n",
      "True\n",
      "1.0\n",
      "False\n",
      "False\n",
      "1.50000011921\n",
      "True\n",
      "True\n",
      "1.0\n",
      "False\n",
      "False\n",
      "1.5\n",
      "True\n",
      "True\n",
      "1.50000011921\n",
      "True\n",
      "True\n",
      "1.0\n",
      "False\n",
      "False\n",
      "1.5\n",
      "True\n",
      "True\n",
      "1.5\n",
      "True\n",
      "True\n",
      "1.0\n",
      "False\n",
      "False\n",
      "1.50000011921\n",
      "True\n",
      "True\n",
      "1.0\n",
      "False\n",
      "False\n",
      "1.0\n",
      "False\n",
      "False\n",
      "1.0\n",
      "False\n",
      "False\n",
      "1.0\n",
      "False\n",
      "False\n",
      "1.0\n",
      "False\n",
      "False\n",
      "1.0\n",
      "False\n",
      "False\n"
     ]
    }
   ],
   "source": [
    "hybrid = benzene.getResonanceHybrid()\n",
    "#print benzene.molecule[0].isIdentical(benzene.molecule[2])\n",
    "\n",
    "for atom1 in hybrid.atoms:\n",
    "    for atom2 in atom1.bonds.keys():\n",
    "        bond = hybrid.getBond(atom1,atom2)\n",
    "        print bond.getOrderNum()\n",
    "        print bond.isBenzene()\n",
    "        print bond.isOrder(1.5)"
   ]
  },
  {
   "cell_type": "markdown",
   "metadata": {},
   "source": [
    "Proper structure is obtained. Possibly the error tolerance is too low, since these have 1.1e-7 error"
   ]
  },
  {
   "cell_type": "code",
   "execution_count": 7,
   "metadata": {
    "collapsed": false
   },
   "outputs": [
    {
     "data": {
      "text/plain": [
       "12"
      ]
     },
     "execution_count": 7,
     "metadata": {},
     "output_type": "execute_result"
    }
   ],
   "source": [
    "hybrid.getSymmetryNumber()"
   ]
  },
  {
   "cell_type": "code",
   "execution_count": 8,
   "metadata": {
    "collapsed": false
   },
   "outputs": [
    {
     "ename": "KeyError",
     "evalue": "1.5000001192092896",
     "output_type": "error",
     "traceback": [
      "\u001b[0;31m---------------------------------------------------------------------------\u001b[0m",
      "\u001b[0;31mKeyError\u001b[0m                                  Traceback (most recent call last)",
      "\u001b[0;32m/home/mark/.conda/envs/rmg_env/lib/python2.7/site-packages/IPython/core/formatters.pyc\u001b[0m in \u001b[0;36m__call__\u001b[0;34m(self, obj)\u001b[0m\n\u001b[1;32m    670\u001b[0m                 \u001b[0mtype_pprinters\u001b[0m\u001b[0;34m=\u001b[0m\u001b[0mself\u001b[0m\u001b[0;34m.\u001b[0m\u001b[0mtype_printers\u001b[0m\u001b[0;34m,\u001b[0m\u001b[0;34m\u001b[0m\u001b[0m\n\u001b[1;32m    671\u001b[0m                 deferred_pprinters=self.deferred_printers)\n\u001b[0;32m--> 672\u001b[0;31m             \u001b[0mprinter\u001b[0m\u001b[0;34m.\u001b[0m\u001b[0mpretty\u001b[0m\u001b[0;34m(\u001b[0m\u001b[0mobj\u001b[0m\u001b[0;34m)\u001b[0m\u001b[0;34m\u001b[0m\u001b[0m\n\u001b[0m\u001b[1;32m    673\u001b[0m             \u001b[0mprinter\u001b[0m\u001b[0;34m.\u001b[0m\u001b[0mflush\u001b[0m\u001b[0;34m(\u001b[0m\u001b[0;34m)\u001b[0m\u001b[0;34m\u001b[0m\u001b[0m\n\u001b[1;32m    674\u001b[0m             \u001b[0;32mreturn\u001b[0m \u001b[0mstream\u001b[0m\u001b[0;34m.\u001b[0m\u001b[0mgetvalue\u001b[0m\u001b[0;34m(\u001b[0m\u001b[0;34m)\u001b[0m\u001b[0;34m\u001b[0m\u001b[0m\n",
      "\u001b[0;32m/home/mark/.conda/envs/rmg_env/lib/python2.7/site-packages/IPython/lib/pretty.pyc\u001b[0m in \u001b[0;36mpretty\u001b[0;34m(self, obj)\u001b[0m\n\u001b[1;32m    381\u001b[0m                             \u001b[0;32mif\u001b[0m \u001b[0mcallable\u001b[0m\u001b[0;34m(\u001b[0m\u001b[0mmeth\u001b[0m\u001b[0;34m)\u001b[0m\u001b[0;34m:\u001b[0m\u001b[0;34m\u001b[0m\u001b[0m\n\u001b[1;32m    382\u001b[0m                                 \u001b[0;32mreturn\u001b[0m \u001b[0mmeth\u001b[0m\u001b[0;34m(\u001b[0m\u001b[0mobj\u001b[0m\u001b[0;34m,\u001b[0m \u001b[0mself\u001b[0m\u001b[0;34m,\u001b[0m \u001b[0mcycle\u001b[0m\u001b[0;34m)\u001b[0m\u001b[0;34m\u001b[0m\u001b[0m\n\u001b[0;32m--> 383\u001b[0;31m             \u001b[0;32mreturn\u001b[0m \u001b[0m_default_pprint\u001b[0m\u001b[0;34m(\u001b[0m\u001b[0mobj\u001b[0m\u001b[0;34m,\u001b[0m \u001b[0mself\u001b[0m\u001b[0;34m,\u001b[0m \u001b[0mcycle\u001b[0m\u001b[0;34m)\u001b[0m\u001b[0;34m\u001b[0m\u001b[0m\n\u001b[0m\u001b[1;32m    384\u001b[0m         \u001b[0;32mfinally\u001b[0m\u001b[0;34m:\u001b[0m\u001b[0;34m\u001b[0m\u001b[0m\n\u001b[1;32m    385\u001b[0m             \u001b[0mself\u001b[0m\u001b[0;34m.\u001b[0m\u001b[0mend_group\u001b[0m\u001b[0;34m(\u001b[0m\u001b[0;34m)\u001b[0m\u001b[0;34m\u001b[0m\u001b[0m\n",
      "\u001b[0;32m/home/mark/.conda/envs/rmg_env/lib/python2.7/site-packages/IPython/lib/pretty.pyc\u001b[0m in \u001b[0;36m_default_pprint\u001b[0;34m(obj, p, cycle)\u001b[0m\n\u001b[1;32m    501\u001b[0m     \u001b[0;32mif\u001b[0m \u001b[0m_safe_getattr\u001b[0m\u001b[0;34m(\u001b[0m\u001b[0mklass\u001b[0m\u001b[0;34m,\u001b[0m \u001b[0;34m'__repr__'\u001b[0m\u001b[0;34m,\u001b[0m \u001b[0mNone\u001b[0m\u001b[0;34m)\u001b[0m \u001b[0;32mnot\u001b[0m \u001b[0;32min\u001b[0m \u001b[0m_baseclass_reprs\u001b[0m\u001b[0;34m:\u001b[0m\u001b[0;34m\u001b[0m\u001b[0m\n\u001b[1;32m    502\u001b[0m         \u001b[0;31m# A user-provided repr. Find newlines and replace them with p.break_()\u001b[0m\u001b[0;34m\u001b[0m\u001b[0;34m\u001b[0m\u001b[0m\n\u001b[0;32m--> 503\u001b[0;31m         \u001b[0m_repr_pprint\u001b[0m\u001b[0;34m(\u001b[0m\u001b[0mobj\u001b[0m\u001b[0;34m,\u001b[0m \u001b[0mp\u001b[0m\u001b[0;34m,\u001b[0m \u001b[0mcycle\u001b[0m\u001b[0;34m)\u001b[0m\u001b[0;34m\u001b[0m\u001b[0m\n\u001b[0m\u001b[1;32m    504\u001b[0m         \u001b[0;32mreturn\u001b[0m\u001b[0;34m\u001b[0m\u001b[0m\n\u001b[1;32m    505\u001b[0m     \u001b[0mp\u001b[0m\u001b[0;34m.\u001b[0m\u001b[0mbegin_group\u001b[0m\u001b[0;34m(\u001b[0m\u001b[0;36m1\u001b[0m\u001b[0;34m,\u001b[0m \u001b[0;34m'<'\u001b[0m\u001b[0;34m)\u001b[0m\u001b[0;34m\u001b[0m\u001b[0m\n",
      "\u001b[0;32m/home/mark/.conda/envs/rmg_env/lib/python2.7/site-packages/IPython/lib/pretty.pyc\u001b[0m in \u001b[0;36m_repr_pprint\u001b[0;34m(obj, p, cycle)\u001b[0m\n\u001b[1;32m    699\u001b[0m     \u001b[0;34m\"\"\"A pprint that just redirects to the normal repr function.\"\"\"\u001b[0m\u001b[0;34m\u001b[0m\u001b[0m\n\u001b[1;32m    700\u001b[0m     \u001b[0;31m# Find newlines and replace them with p.break_()\u001b[0m\u001b[0;34m\u001b[0m\u001b[0;34m\u001b[0m\u001b[0m\n\u001b[0;32m--> 701\u001b[0;31m     \u001b[0moutput\u001b[0m \u001b[0;34m=\u001b[0m \u001b[0mrepr\u001b[0m\u001b[0;34m(\u001b[0m\u001b[0mobj\u001b[0m\u001b[0;34m)\u001b[0m\u001b[0;34m\u001b[0m\u001b[0m\n\u001b[0m\u001b[1;32m    702\u001b[0m     \u001b[0;32mfor\u001b[0m \u001b[0midx\u001b[0m\u001b[0;34m,\u001b[0m\u001b[0moutput_line\u001b[0m \u001b[0;32min\u001b[0m \u001b[0menumerate\u001b[0m\u001b[0;34m(\u001b[0m\u001b[0moutput\u001b[0m\u001b[0;34m.\u001b[0m\u001b[0msplitlines\u001b[0m\u001b[0;34m(\u001b[0m\u001b[0;34m)\u001b[0m\u001b[0;34m)\u001b[0m\u001b[0;34m:\u001b[0m\u001b[0;34m\u001b[0m\u001b[0m\n\u001b[1;32m    703\u001b[0m         \u001b[0;32mif\u001b[0m \u001b[0midx\u001b[0m\u001b[0;34m:\u001b[0m\u001b[0;34m\u001b[0m\u001b[0m\n",
      "\u001b[0;32m/home/mark/workspace/RMG-Py/rmgpy/molecule/molecule.so\u001b[0m in \u001b[0;36mrmgpy.molecule.molecule.Molecule.__repr__ (build/pyrex/rmgpy/molecule/molecule.c:14328)\u001b[0;34m()\u001b[0m\n",
      "\u001b[0;32m/home/mark/workspace/RMG-Py/rmgpy/molecule/molecule.so\u001b[0m in \u001b[0;36mrmgpy.molecule.molecule.Molecule.toSMILES (build/pyrex/rmgpy/molecule/molecule.c:26372)\u001b[0;34m()\u001b[0m\n",
      "\u001b[0;32m/home/mark/workspace/RMG-Py/rmgpy/molecule/generator.so\u001b[0m in \u001b[0;36mrmgpy.molecule.generator.toSMILES (build/pyrex/rmgpy/molecule/generator.c:5263)\u001b[0;34m()\u001b[0m\n",
      "\u001b[0;32m/home/mark/workspace/RMG-Py/rmgpy/molecule/generator.so\u001b[0m in \u001b[0;36mrmgpy.molecule.generator.toSMILES (build/pyrex/rmgpy/molecule/generator.c:5089)\u001b[0;34m()\u001b[0m\n",
      "\u001b[0;32m/home/mark/workspace/RMG-Py/rmgpy/molecule/generator.so\u001b[0m in \u001b[0;36mrmgpy.molecule.generator.toRDKitMol (build/pyrex/rmgpy/molecule/generator.c:7531)\u001b[0;34m()\u001b[0m\n",
      "\u001b[0;32m/home/mark/workspace/RMG-Py/rmgpy/molecule/generator.so\u001b[0m in \u001b[0;36mrmgpy.molecule.generator.toRDKitMol (build/pyrex/rmgpy/molecule/generator.c:7148)\u001b[0;34m()\u001b[0m\n",
      "\u001b[0;31mKeyError\u001b[0m: 1.5000001192092896"
     ]
    },
    {
     "ename": "KeyError",
     "evalue": "1.5000001192092896",
     "output_type": "error",
     "traceback": [
      "\u001b[0;31m---------------------------------------------------------------------------\u001b[0m",
      "\u001b[0;31mKeyError\u001b[0m                                  Traceback (most recent call last)",
      "\u001b[0;32m/home/mark/.conda/envs/rmg_env/lib/python2.7/site-packages/IPython/core/formatters.pyc\u001b[0m in \u001b[0;36m__call__\u001b[0;34m(self, obj)\u001b[0m\n\u001b[1;32m    309\u001b[0m             \u001b[0mmethod\u001b[0m \u001b[0;34m=\u001b[0m \u001b[0mget_real_method\u001b[0m\u001b[0;34m(\u001b[0m\u001b[0mobj\u001b[0m\u001b[0;34m,\u001b[0m \u001b[0mself\u001b[0m\u001b[0;34m.\u001b[0m\u001b[0mprint_method\u001b[0m\u001b[0;34m)\u001b[0m\u001b[0;34m\u001b[0m\u001b[0m\n\u001b[1;32m    310\u001b[0m             \u001b[0;32mif\u001b[0m \u001b[0mmethod\u001b[0m \u001b[0;32mis\u001b[0m \u001b[0;32mnot\u001b[0m \u001b[0mNone\u001b[0m\u001b[0;34m:\u001b[0m\u001b[0;34m\u001b[0m\u001b[0m\n\u001b[0;32m--> 311\u001b[0;31m                 \u001b[0;32mreturn\u001b[0m \u001b[0mmethod\u001b[0m\u001b[0;34m(\u001b[0m\u001b[0;34m)\u001b[0m\u001b[0;34m\u001b[0m\u001b[0m\n\u001b[0m\u001b[1;32m    312\u001b[0m             \u001b[0;32mreturn\u001b[0m \u001b[0mNone\u001b[0m\u001b[0;34m\u001b[0m\u001b[0m\n\u001b[1;32m    313\u001b[0m         \u001b[0;32melse\u001b[0m\u001b[0;34m:\u001b[0m\u001b[0;34m\u001b[0m\u001b[0m\n",
      "\u001b[0;32m/home/mark/workspace/RMG-Py/rmgpy/molecule/molecule.so\u001b[0m in \u001b[0;36mrmgpy.molecule.molecule.Molecule._repr_png_ (build/pyrex/rmgpy/molecule/molecule.c:23408)\u001b[0;34m()\u001b[0m\n",
      "\u001b[0;32m/home/mark/workspace/RMG-Py/rmgpy/molecule/draw.pyc\u001b[0m in \u001b[0;36mdraw\u001b[0;34m(self, molecule, format, path)\u001b[0m\n\u001b[1;32m    180\u001b[0m             \u001b[0;31m# Generate the coordinates to use to draw the molecule\u001b[0m\u001b[0;34m\u001b[0m\u001b[0;34m\u001b[0m\u001b[0m\n\u001b[1;32m    181\u001b[0m             \u001b[0;32mtry\u001b[0m\u001b[0;34m:\u001b[0m\u001b[0;34m\u001b[0m\u001b[0m\n\u001b[0;32m--> 182\u001b[0;31m                 \u001b[0mself\u001b[0m\u001b[0;34m.\u001b[0m\u001b[0m__generateCoordinates\u001b[0m\u001b[0;34m(\u001b[0m\u001b[0;34m)\u001b[0m\u001b[0;34m\u001b[0m\u001b[0m\n\u001b[0m\u001b[1;32m    183\u001b[0m \u001b[0;34m\u001b[0m\u001b[0m\n\u001b[1;32m    184\u001b[0m                 \u001b[0;31m# Generate labels to use\u001b[0m\u001b[0;34m\u001b[0m\u001b[0;34m\u001b[0m\u001b[0m\n",
      "\u001b[0;32m/home/mark/workspace/RMG-Py/rmgpy/molecule/draw.pyc\u001b[0m in \u001b[0;36m__generateCoordinates\u001b[0;34m(self)\u001b[0m\n\u001b[1;32m    364\u001b[0m             \u001b[0mself\u001b[0m\u001b[0;34m.\u001b[0m\u001b[0mgeometry\u001b[0m \u001b[0;34m=\u001b[0m \u001b[0mGeometry\u001b[0m\u001b[0;34m(\u001b[0m\u001b[0mNone\u001b[0m\u001b[0;34m,\u001b[0m \u001b[0mNone\u001b[0m\u001b[0;34m,\u001b[0m \u001b[0mself\u001b[0m\u001b[0;34m.\u001b[0m\u001b[0mmolecule\u001b[0m\u001b[0;34m,\u001b[0m \u001b[0mNone\u001b[0m\u001b[0;34m)\u001b[0m\u001b[0;34m\u001b[0m\u001b[0m\n\u001b[1;32m    365\u001b[0m \u001b[0;34m\u001b[0m\u001b[0m\n\u001b[0;32m--> 366\u001b[0;31m             \u001b[0mrdmol\u001b[0m\u001b[0;34m,\u001b[0m \u001b[0mrdAtomIdx\u001b[0m \u001b[0;34m=\u001b[0m \u001b[0mself\u001b[0m\u001b[0;34m.\u001b[0m\u001b[0mgeometry\u001b[0m\u001b[0;34m.\u001b[0m\u001b[0mrd_build\u001b[0m\u001b[0;34m(\u001b[0m\u001b[0;34m)\u001b[0m\u001b[0;34m\u001b[0m\u001b[0m\n\u001b[0m\u001b[1;32m    367\u001b[0m             \u001b[0mAllChem\u001b[0m\u001b[0;34m.\u001b[0m\u001b[0mCompute2DCoords\u001b[0m\u001b[0;34m(\u001b[0m\u001b[0mrdmol\u001b[0m\u001b[0;34m)\u001b[0m\u001b[0;34m\u001b[0m\u001b[0m\n\u001b[1;32m    368\u001b[0m \u001b[0;34m\u001b[0m\u001b[0m\n",
      "\u001b[0;32m/home/mark/workspace/RMG-Py/rmgpy/qm/molecule.pyc\u001b[0m in \u001b[0;36mrd_build\u001b[0;34m(self)\u001b[0m\n\u001b[1;32m    109\u001b[0m         \u001b[0mImport\u001b[0m \u001b[0mrmg\u001b[0m \u001b[0mmolecule\u001b[0m \u001b[0;32mand\u001b[0m \u001b[0mcreate\u001b[0m \u001b[0mrdkit\u001b[0m \u001b[0mmolecule\u001b[0m \u001b[0;32mwith\u001b[0m \u001b[0mthe\u001b[0m \u001b[0msame\u001b[0m \u001b[0matom\u001b[0m \u001b[0mlabeling\u001b[0m\u001b[0;34m.\u001b[0m\u001b[0;34m\u001b[0m\u001b[0m\n\u001b[1;32m    110\u001b[0m         \"\"\"\n\u001b[0;32m--> 111\u001b[0;31m         \u001b[0;32mreturn\u001b[0m \u001b[0mself\u001b[0m\u001b[0;34m.\u001b[0m\u001b[0mmolecule\u001b[0m\u001b[0;34m.\u001b[0m\u001b[0mtoRDKitMol\u001b[0m\u001b[0;34m(\u001b[0m\u001b[0mremoveHs\u001b[0m\u001b[0;34m=\u001b[0m\u001b[0mFalse\u001b[0m\u001b[0;34m,\u001b[0m \u001b[0mreturnMapping\u001b[0m\u001b[0;34m=\u001b[0m\u001b[0mTrue\u001b[0m\u001b[0;34m)\u001b[0m\u001b[0;34m\u001b[0m\u001b[0m\n\u001b[0m\u001b[1;32m    112\u001b[0m \u001b[0;34m\u001b[0m\u001b[0m\n\u001b[1;32m    113\u001b[0m \u001b[0;34m\u001b[0m\u001b[0m\n",
      "\u001b[0;32m/home/mark/workspace/RMG-Py/rmgpy/molecule/molecule.so\u001b[0m in \u001b[0;36mrmgpy.molecule.molecule.Molecule.toRDKitMol (build/pyrex/rmgpy/molecule/molecule.c:26523)\u001b[0;34m()\u001b[0m\n",
      "\u001b[0;32m/home/mark/workspace/RMG-Py/rmgpy/molecule/generator.so\u001b[0m in \u001b[0;36mrmgpy.molecule.generator.toRDKitMol (build/pyrex/rmgpy/molecule/generator.c:7531)\u001b[0;34m()\u001b[0m\n",
      "\u001b[0;32m/home/mark/workspace/RMG-Py/rmgpy/molecule/generator.so\u001b[0m in \u001b[0;36mrmgpy.molecule.generator.toRDKitMol (build/pyrex/rmgpy/molecule/generator.c:7148)\u001b[0;34m()\u001b[0m\n",
      "\u001b[0;31mKeyError\u001b[0m: 1.5000001192092896"
     ]
    }
   ],
   "source": [
    "hybrid"
   ]
  },
  {
   "cell_type": "markdown",
   "metadata": {},
   "source": [
    "this rounding error still needs to be fixed."
   ]
  },
  {
   "cell_type": "markdown",
   "metadata": {},
   "source": [
    "## compare cyclic symmetry numbers explicitly"
   ]
  },
  {
   "cell_type": "code",
   "execution_count": 15,
   "metadata": {
    "collapsed": true
   },
   "outputs": [],
   "source": [
    "from rmgpy.molecule.symmetry import calculateCyclicSymmetryNumber"
   ]
  },
  {
   "cell_type": "code",
   "execution_count": 16,
   "metadata": {
    "collapsed": false
   },
   "outputs": [
    {
     "data": {
      "text/plain": [
       "3"
      ]
     },
     "execution_count": 16,
     "metadata": {},
     "output_type": "execute_result"
    }
   ],
   "source": [
    "calculateCyclicSymmetryNumber(benzene.molecule[0])"
   ]
  },
  {
   "cell_type": "code",
   "execution_count": 17,
   "metadata": {
    "collapsed": false
   },
   "outputs": [
    {
     "data": {
      "text/plain": [
       "12"
      ]
     },
     "execution_count": 17,
     "metadata": {},
     "output_type": "execute_result"
    }
   ],
   "source": [
    "# aromatic version\n",
    "calculateCyclicSymmetryNumber(benzene.molecule[1])"
   ]
  },
  {
   "cell_type": "code",
   "execution_count": 18,
   "metadata": {
    "collapsed": false
   },
   "outputs": [
    {
     "data": {
      "text/plain": [
       "12"
      ]
     },
     "execution_count": 18,
     "metadata": {},
     "output_type": "execute_result"
    }
   ],
   "source": [
    "calculateCyclicSymmetryNumber(hybrid)"
   ]
  },
  {
   "cell_type": "markdown",
   "metadata": {},
   "source": [
    "## for aromatic benzene"
   ]
  },
  {
   "cell_type": "code",
   "execution_count": 19,
   "metadata": {
    "collapsed": true
   },
   "outputs": [],
   "source": [
    "molecule = benzene.molecule[1]"
   ]
  },
  {
   "cell_type": "code",
   "execution_count": 20,
   "metadata": {
    "collapsed": false
   },
   "outputs": [],
   "source": [
    "symmetryNumber = 1\n",
    "\n",
    "rings = molecule.getSmallestSetOfSmallestRings()\n",
    "\n",
    "# Get symmetry number for each ring in structure\n",
    "for ring0 in rings:\n",
    "\n",
    "    # Make another copy structure\n",
    "    structure = molecule.copy(True)\n",
    "    ring = [structure.atoms[molecule.atoms.index(atom)] for atom in ring0]\n",
    "\n",
    "    # Remove bonds of ring from structure\n",
    "    for i, atom1 in enumerate(ring):\n",
    "        for atom2 in ring[i+1:]:\n",
    "            if structure.hasBond(atom1, atom2):\n",
    "                structure.removeBond(atom1.edges[atom2])\n",
    "\n",
    "    structures = structure.split()\n",
    "    groups = []\n",
    "    for struct in structures:\n",
    "        for atom in ring:\n",
    "            if struct.hasAtom(atom): struct.removeAtom(atom)\n",
    "        groups.append(struct.split())\n",
    "    # Find equivalent functional groups on ring\n",
    "    equivalentGroups = []; equivalentGroupCount = []\n",
    "    for group in groups:\n",
    "        found = False\n",
    "        for i, eqGroup in enumerate(equivalentGroups):\n",
    "            if not found and len(group) == len(eqGroup):\n",
    "                for g, eg in zip(group, eqGroup):\n",
    "                    if not g.isIsomorphic(eg):\n",
    "                        # The groups do not match\n",
    "                        break\n",
    "                else:\n",
    "                    # The groups match\n",
    "                    found = True\n",
    "            if found:\n",
    "                # We've found a matching group, so increment its count\n",
    "                equivalentGroupCount[i] += 1        \n",
    "                break\n",
    "        else:\n",
    "            # No matching group found, so add it as a new group\n",
    "            equivalentGroups.append(group)\n",
    "            equivalentGroupCount.append(1)\n",
    "\n",
    "    # Find equivalent bonds on ring\n",
    "    equivalentBonds = []\n",
    "    for i, atom1 in enumerate(ring0):\n",
    "        for atom2 in ring0[i+1:]:\n",
    "            if molecule.hasBond(atom1, atom2):\n",
    "                bond = molecule.getBond(atom1, atom2)\n",
    "                found = False\n",
    "                for eqBond in equivalentBonds:\n",
    "                    if not found:\n",
    "                        if bond.equivalent(eqBond[0]):\n",
    "                            eqBond.append(group)\n",
    "                            found = True\n",
    "                if not found:\n",
    "                    equivalentBonds.append([bond])\n",
    "\n",
    "    # Find maximum number of equivalent groups and bonds\n",
    "    minEquivalentGroups = min(equivalentGroupCount)\n",
    "    maxEquivalentGroups = max(equivalentGroupCount)\n",
    "    minEquivalentBonds = None\n",
    "    maxEquivalentBonds = 0\n",
    "    for bonds in equivalentBonds:\n",
    "        N = len(bonds)\n",
    "        if minEquivalentBonds is None or N < minEquivalentBonds:\n",
    "            minEquivalentBonds = N\n",
    "        if N > maxEquivalentBonds:\n",
    "            maxEquivalentBonds = N\n",
    "\n",
    "    if maxEquivalentGroups == maxEquivalentBonds == len(ring):\n",
    "        symmetryNumber *= len(ring) * 2\n",
    "    else:\n",
    "        symmetryNumber *= min(minEquivalentGroups, minEquivalentBonds)"
   ]
  },
  {
   "cell_type": "code",
   "execution_count": 21,
   "metadata": {
    "collapsed": false
   },
   "outputs": [
    {
     "data": {
      "text/plain": [
       "6"
      ]
     },
     "execution_count": 21,
     "metadata": {},
     "output_type": "execute_result"
    }
   ],
   "source": [
    "maxEquivalentGroups"
   ]
  },
  {
   "cell_type": "code",
   "execution_count": 22,
   "metadata": {
    "collapsed": false
   },
   "outputs": [
    {
     "data": {
      "text/plain": [
       "6"
      ]
     },
     "execution_count": 22,
     "metadata": {},
     "output_type": "execute_result"
    }
   ],
   "source": [
    "maxEquivalentBonds"
   ]
  },
  {
   "cell_type": "markdown",
   "metadata": {},
   "source": [
    "## for hybrid structure"
   ]
  },
  {
   "cell_type": "code",
   "execution_count": 23,
   "metadata": {
    "collapsed": true
   },
   "outputs": [],
   "source": [
    "molecule = hybrid"
   ]
  },
  {
   "cell_type": "code",
   "execution_count": 24,
   "metadata": {
    "collapsed": false
   },
   "outputs": [],
   "source": [
    "symmetryNumber = 1\n",
    "\n",
    "rings = molecule.getSmallestSetOfSmallestRings()\n",
    "\n",
    "# Get symmetry number for each ring in structure\n",
    "for ring0 in rings:\n",
    "\n",
    "    # Make another copy structure\n",
    "    structure = molecule.copy(True)\n",
    "    ring = [structure.atoms[molecule.atoms.index(atom)] for atom in ring0]\n",
    "\n",
    "    # Remove bonds of ring from structure\n",
    "    for i, atom1 in enumerate(ring):\n",
    "        for atom2 in ring[i+1:]:\n",
    "            if structure.hasBond(atom1, atom2):\n",
    "                structure.removeBond(atom1.edges[atom2])\n",
    "\n",
    "    structures = structure.split()\n",
    "    groups = []\n",
    "    for struct in structures:\n",
    "        for atom in ring:\n",
    "            if struct.hasAtom(atom): struct.removeAtom(atom)\n",
    "        groups.append(struct.split())\n",
    "    # Find equivalent functional groups on ring\n",
    "    equivalentGroups = []; equivalentGroupCount = []\n",
    "    for group in groups:\n",
    "        found = False\n",
    "        for i, eqGroup in enumerate(equivalentGroups):\n",
    "            if not found and len(group) == len(eqGroup):\n",
    "                for g, eg in zip(group, eqGroup):\n",
    "                    if not g.isIsomorphic(eg):\n",
    "                        # The groups do not match\n",
    "                        break\n",
    "                else:\n",
    "                    # The groups match\n",
    "                    found = True\n",
    "            if found:\n",
    "                # We've found a matching group, so increment its count\n",
    "                equivalentGroupCount[i] += 1        \n",
    "                break\n",
    "        else:\n",
    "            # No matching group found, so add it as a new group\n",
    "            equivalentGroups.append(group)\n",
    "            equivalentGroupCount.append(1)\n",
    "\n",
    "    # Find equivalent bonds on ring\n",
    "    equivalentBonds = []\n",
    "    for i, atom1 in enumerate(ring0):\n",
    "        for atom2 in ring0[i+1:]:\n",
    "            if molecule.hasBond(atom1, atom2):\n",
    "                bond = molecule.getBond(atom1, atom2)\n",
    "                found = False\n",
    "                for eqBond in equivalentBonds:\n",
    "                    if not found:\n",
    "                        if bond.equivalent(eqBond[0]):\n",
    "                            eqBond.append(group)\n",
    "                            found = True\n",
    "                if not found:\n",
    "                    equivalentBonds.append([bond])\n",
    "\n",
    "    # Find maximum number of equivalent groups and bonds\n",
    "    minEquivalentGroups = min(equivalentGroupCount)\n",
    "    maxEquivalentGroups = max(equivalentGroupCount)\n",
    "    minEquivalentBonds = None\n",
    "    maxEquivalentBonds = 0\n",
    "    for bonds in equivalentBonds:\n",
    "        N = len(bonds)\n",
    "        if minEquivalentBonds is None or N < minEquivalentBonds:\n",
    "            minEquivalentBonds = N\n",
    "        if N > maxEquivalentBonds:\n",
    "            maxEquivalentBonds = N\n",
    "\n",
    "    if maxEquivalentGroups == maxEquivalentBonds == len(ring):\n",
    "        symmetryNumber *= len(ring) * 2\n",
    "    else:\n",
    "        symmetryNumber *= min(minEquivalentGroups, minEquivalentBonds)"
   ]
  },
  {
   "cell_type": "code",
   "execution_count": 25,
   "metadata": {
    "collapsed": false
   },
   "outputs": [
    {
     "data": {
      "text/plain": [
       "6"
      ]
     },
     "execution_count": 25,
     "metadata": {},
     "output_type": "execute_result"
    }
   ],
   "source": [
    "maxEquivalentGroups"
   ]
  },
  {
   "cell_type": "code",
   "execution_count": 26,
   "metadata": {
    "collapsed": false
   },
   "outputs": [
    {
     "data": {
      "text/plain": [
       "6"
      ]
     },
     "execution_count": 26,
     "metadata": {},
     "output_type": "execute_result"
    }
   ],
   "source": [
    "maxEquivalentBonds"
   ]
  },
  {
   "cell_type": "code",
   "execution_count": 27,
   "metadata": {
    "collapsed": false
   },
   "outputs": [
    {
     "data": {
      "text/plain": [
       "[[<Bond \"1.5\">,\n",
       "  [Molecule(SMILES=\"[HH]\", multiplicity=-187)],\n",
       "  [Molecule(SMILES=\"[HH]\", multiplicity=-187)],\n",
       "  [Molecule(SMILES=\"[HH]\", multiplicity=-187)],\n",
       "  [Molecule(SMILES=\"[HH]\", multiplicity=-187)],\n",
       "  [Molecule(SMILES=\"[HH]\", multiplicity=-187)]]]"
      ]
     },
     "execution_count": 27,
     "metadata": {},
     "output_type": "execute_result"
    }
   ],
   "source": [
    "equivalentBonds"
   ]
  },
  {
   "cell_type": "code",
   "execution_count": 28,
   "metadata": {
    "collapsed": false
   },
   "outputs": [
    {
     "ename": "IndexError",
     "evalue": "list index out of range",
     "output_type": "error",
     "traceback": [
      "\u001b[0;31m---------------------------------------------------------------------------\u001b[0m",
      "\u001b[0;31mIndexError\u001b[0m                                Traceback (most recent call last)",
      "\u001b[0;32m<ipython-input-28-00d42e06ef81>\u001b[0m in \u001b[0;36m<module>\u001b[0;34m()\u001b[0m\n\u001b[0;32m----> 1\u001b[0;31m \u001b[0mequivalentBonds\u001b[0m\u001b[0;34m[\u001b[0m\u001b[0;36m0\u001b[0m\u001b[0;34m]\u001b[0m\u001b[0;34m[\u001b[0m\u001b[0;36m0\u001b[0m\u001b[0;34m]\u001b[0m\u001b[0;34m.\u001b[0m\u001b[0mequivalent\u001b[0m\u001b[0;34m(\u001b[0m\u001b[0mequivalentBonds\u001b[0m\u001b[0;34m[\u001b[0m\u001b[0;36m1\u001b[0m\u001b[0;34m]\u001b[0m\u001b[0;34m[\u001b[0m\u001b[0;36m0\u001b[0m\u001b[0;34m]\u001b[0m\u001b[0;34m)\u001b[0m\u001b[0;34m\u001b[0m\u001b[0m\n\u001b[0m",
      "\u001b[0;31mIndexError\u001b[0m: list index out of range"
     ]
    }
   ],
   "source": [
    "equivalentBonds[0][0].equivalent(equivalentBonds[1][0])"
   ]
  },
  {
   "cell_type": "code",
   "execution_count": null,
   "metadata": {
    "collapsed": false
   },
   "outputs": [],
   "source": [
    "equivalentBonds[0][0].isOrder(equivalentBonds[1][0].getOrderNum())"
   ]
  },
  {
   "cell_type": "code",
   "execution_count": null,
   "metadata": {
    "collapsed": false
   },
   "outputs": [],
   "source": [
    "# troublshooting equivalent\n",
    "self = equivalentBonds[0][0]\n",
    "other = equivalentBonds[1][0]\n",
    "\n",
    "if isinstance(other, Bond):\n",
    "    bond = other\n",
    "    print (self.isOrder(bond.getOrderNum()))\n",
    "elif isinstance(other, gr.GroupBond):\n",
    "    bp = other\n",
    "    print (any([self.isOrder(otherOrder) for otherOrder in bp.getOrderNum()]))"
   ]
  },
  {
   "cell_type": "code",
   "execution_count": null,
   "metadata": {
    "collapsed": false
   },
   "outputs": [],
   "source": [
    "# troublshooting equivalent\n",
    "other = equivalentBonds[0][0]\n",
    "self = equivalentBonds[1][0]\n",
    "\n",
    "if isinstance(other, Bond):\n",
    "    bond = other\n",
    "    print (self.isOrder(bond.getOrderNum()))\n",
    "elif isinstance(other, gr.GroupBond):\n",
    "    bp = other\n",
    "    print (any([self.isOrder(otherOrder) for otherOrder in bp.getOrderNum()]))"
   ]
  },
  {
   "cell_type": "code",
   "execution_count": null,
   "metadata": {
    "collapsed": true
   },
   "outputs": [],
   "source": [
    "def equivalent(self, other):\n",
    "    \"\"\"\n",
    "    Return ``True`` if `other` is indistinguishable from this bond, or\n",
    "    ``False`` otherwise. `other` can be either a :class:`Bond` or a\n",
    "    :class:`GroupBond` object.\n",
    "    \"\"\"\n",
    "    if isinstance(other, Bond):\n",
    "        bond = other\n",
    "        return (self.isOrder(bond.getOrderNum()))\n",
    "    elif isinstance(other, gr.GroupBond):\n",
    "        bp = other\n",
    "        return any([self.isOrder(otherOrder) for otherOrder in bp.getOrderNum()])"
   ]
  },
  {
   "cell_type": "code",
   "execution_count": null,
   "metadata": {
    "collapsed": false
   },
   "outputs": [],
   "source": [
    "equivalent(self,other)"
   ]
  },
  {
   "cell_type": "code",
   "execution_count": null,
   "metadata": {
    "collapsed": false
   },
   "outputs": [],
   "source": [
    "self.equivalent(other)"
   ]
  },
  {
   "cell_type": "markdown",
   "metadata": {},
   "source": [
    "something is wrong with how equivalent is functioning. I should get back to this tomorrow"
   ]
  },
  {
   "cell_type": "markdown",
   "metadata": {},
   "source": [
    "## try the benzene structure except with allyl"
   ]
  },
  {
   "cell_type": "code",
   "execution_count": null,
   "metadata": {
    "collapsed": true
   },
   "outputs": [],
   "source": []
  },
  {
   "cell_type": "code",
   "execution_count": 11,
   "metadata": {
    "collapsed": true
   },
   "outputs": [],
   "source": [
    "from rmgpy.species import Species\n",
    "from rmgpy.molecule import Molecule, Atom, Bond"
   ]
  },
  {
   "cell_type": "code",
   "execution_count": 12,
   "metadata": {
    "collapsed": true
   },
   "outputs": [],
   "source": [
    "benzene = Molecule().fromSMILES('C=C[CH2]')\n",
    "benzene.assignAtomIndices()\n",
    "resStruc = benzene.generateResonanceIsomers(keepIsomorphic=True)"
   ]
  },
  {
   "cell_type": "code",
   "execution_count": 13,
   "metadata": {
    "collapsed": false
   },
   "outputs": [
    {
     "data": {
      "image/png": "[encoded data removed]",
      "text/plain": [
       "Molecule(SMILES=\"[CH2]C=C\")"
      ]
     },
     "execution_count": 13,
     "metadata": {},
     "output_type": "execute_result"
    }
   ],
   "source": [
    "resStruc[0]"
   ]
  },
  {
   "cell_type": "code",
   "execution_count": 14,
   "metadata": {
    "collapsed": false
   },
   "outputs": [
    {
     "data": {
      "image/png": "[encoded data removed]",
      "text/plain": [
       "Molecule(SMILES=\"[CH2]C=C\")"
      ]
     },
     "execution_count": 14,
     "metadata": {},
     "output_type": "execute_result"
    }
   ],
   "source": [
    "resStruc[1]"
   ]
  },
  {
   "cell_type": "code",
   "execution_count": 33,
   "metadata": {
    "collapsed": false
   },
   "outputs": [
    {
     "ename": "IndexError",
     "evalue": "list index out of range",
     "output_type": "error",
     "traceback": [
      "\u001b[0;31m---------------------------------------------------------------------------\u001b[0m",
      "\u001b[0;31mIndexError\u001b[0m                                Traceback (most recent call last)",
      "\u001b[0;32m<ipython-input-33-2b5e9513232a>\u001b[0m in \u001b[0;36m<module>\u001b[0;34m()\u001b[0m\n\u001b[0;32m----> 1\u001b[0;31m \u001b[0mresStruc\u001b[0m\u001b[0;34m[\u001b[0m\u001b[0;36m0\u001b[0m\u001b[0;34m]\u001b[0m\u001b[0;34m.\u001b[0m\u001b[0misIsomorphic\u001b[0m\u001b[0;34m(\u001b[0m\u001b[0mresStruc\u001b[0m\u001b[0;34m[\u001b[0m\u001b[0;36m2\u001b[0m\u001b[0;34m]\u001b[0m\u001b[0;34m)\u001b[0m\u001b[0;34m\u001b[0m\u001b[0m\n\u001b[0m",
      "\u001b[0;31mIndexError\u001b[0m: list index out of range"
     ]
    }
   ],
   "source": [
    "resStruc[0].isIsomorphic(resStruc[1])"
   ]
  },
  {
   "cell_type": "code",
   "execution_count": 34,
   "metadata": {
    "collapsed": false
   },
   "outputs": [
    {
     "data": {
      "text/plain": [
       "False"
      ]
     },
     "execution_count": 34,
     "metadata": {},
     "output_type": "execute_result"
    }
   ],
   "source": [
    "resStruc[0].isIdentical(resStruc[1])"
   ]
  },
  {
   "cell_type": "markdown",
   "metadata": {},
   "source": [
    "The previous line returns a non-deterministic result. I run it below 100 times and show the variation"
   ]
  },
  {
   "cell_type": "code",
   "execution_count": 35,
   "metadata": {
    "collapsed": false
   },
   "outputs": [
    {
     "name": "stdout",
     "output_type": "stream",
     "text": [
      "The resonance structures are identical 0 times\n",
      "The resonance structures are NOT identical 100 times\n"
     ]
    }
   ],
   "source": [
    "isIdenticalList = []\n",
    "for i in range(100):\n",
    "    resStruc = benzene.generateResonanceIsomers(keepIsomorphic=True)\n",
    "    identical = resStruc[0].isIdentical(resStruc[1])\n",
    "    isIdenticalList.append(identical)\n",
    "print 'The resonance structures are identical {} times'.format(isIdenticalList.count(True))\n",
    "print 'The resonance structures are NOT identical {} times'.format(isIdenticalList.count(False))"
   ]
  },
  {
   "cell_type": "code",
   "execution_count": 9,
   "metadata": {
    "collapsed": true
   },
   "outputs": [],
   "source": [
    "from IPython.display import display"
   ]
  },
  {
   "cell_type": "code",
   "execution_count": 16,
   "metadata": {
    "collapsed": false,
    "scrolled": true
   },
   "outputs": [
    {
     "data": {
      "image/png": "[encoded data removed]",
      "text/plain": [
       "Molecule(SMILES=\"[CH2]C=C\")"
      ]
     },
     "metadata": {},
     "output_type": "display_data"
    },
    {
     "data": {
      "image/png": "[encoded data removed]",
      "text/plain": [
       "Molecule(SMILES=\"[CH2]C=C\")"
      ]
     },
     "metadata": {},
     "output_type": "display_data"
    }
   ],
   "source": [
    "for s in resStruc:\n",
    "    display(s)"
   ]
  },
  {
   "cell_type": "code",
   "execution_count": null,
   "metadata": {
    "collapsed": true
   },
   "outputs": [],
   "source": []
  }
 ],
 "metadata": {
  "anaconda-cloud": {},
  "kernelspec": {
   "display_name": "Python 2",
   "language": "python",
   "name": "python2"
  },
  "language_info": {
   "codemirror_mode": {
    "name": "ipython",
    "version": 2
   },
   "file_extension": ".py",
   "mimetype": "text/x-python",
   "name": "python",
   "nbconvert_exporter": "python",
   "pygments_lexer": "ipython2",
   "version": "2.7.13"
  },
  "toc": {
   "colors": {
    "hover_highlight": "#DAA520",
    "running_highlight": "#FF0000",
    "selected_highlight": "#FFD700"
   },
   "moveMenuLeft": true,
   "nav_menu": {
    "height": "100px",
    "width": "252px"
   },
   "navigate_menu": true,
   "number_sections": true,
   "sideBar": true,
   "threshold": 4,
   "toc_cell": false,
   "toc_section_display": "block",
   "toc_window_display": true
  }
 },
 "nbformat": 4,
 "nbformat_minor": 2
}
