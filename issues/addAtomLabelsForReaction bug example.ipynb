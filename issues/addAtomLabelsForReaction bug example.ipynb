{
 "cells": [
  {
   "cell_type": "code",
   "execution_count": 1,
   "metadata": {
    "collapsed": false
   },
   "outputs": [],
   "source": [
    "from rmgpy.species import Species"
   ]
  },
  {
   "cell_type": "code",
   "execution_count": 2,
   "metadata": {
    "collapsed": true
   },
   "outputs": [],
   "source": [
    "from rmgpy.molecule.molecule import Atom, Bond, Molecule"
   ]
  },
  {
   "cell_type": "code",
   "execution_count": 3,
   "metadata": {
    "collapsed": true
   },
   "outputs": [],
   "source": [
    "from rmgpy.data.rmg import RMGDatabase\n",
    "from rmgpy import settings\n",
    "database = RMGDatabase()\n",
    "database.load(path = settings['database.directory'],\n",
    "     kineticsFamilies=['R_Addition_MultipleBond'],\n",
    "     depository=True,\n",
    "     solvation=True,)\n",
    "\n",
    "for family in database.kinetics.families.values():\n",
    "    family.addKineticsRulesFromTrainingSet(thermoDatabase=database.thermo)\n",
    "for family in database.kinetics.families.values():\n",
    "    family.fillKineticsRulesByAveragingUp(verbose=True)"
   ]
  },
  {
   "cell_type": "code",
   "execution_count": 4,
   "metadata": {
    "collapsed": true
   },
   "outputs": [],
   "source": [
    "def find_reaction_degeneracy(reactants_adj_list,rxn_family_str,\n",
    "                             num_independent_reactions = 1):\n",
    "    \"\"\"\n",
    "    given:\n",
    "\n",
    "    reactants_adj_list: a list of adjacency lists of the reactants\n",
    "    `reaction_family_str`: the string representation of the reaction family\n",
    "    `num_independent_rxns`: the number of reaction objects expected from generateReactions\n",
    "\n",
    "    returns:\n",
    "\n",
    "    a tuple with the total degeneracy and a list of reaction objects\n",
    "    \"\"\"\n",
    "    family = database.kinetics.families[rxn_family_str]\n",
    "    reactants = [Molecule().fromAdjacencyList(reactants_adj_list[0]),\n",
    "                 Molecule().fromAdjacencyList(reactants_adj_list[1])] \n",
    "\n",
    "    reactions = family.generateReactions(reactants)\n",
    "\n",
    "    return sum([reaction.degeneracy for reaction in reactions]), reactions\n"
   ]
  },
  {
   "cell_type": "code",
   "execution_count": 5,
   "metadata": {
    "collapsed": false
   },
   "outputs": [],
   "source": [
    "rxn_family_str = 'R_Addition_MultipleBond'\n",
    "butenyl_adj_list = \"\"\"\n",
    "    multiplicity 2\n",
    "    1 C u0 p0 c0 {2,S} {3,S} {5,S} {6,S}\n",
    "    2 C u0 p0 c0 {1,S} {4,D} {7,S}\n",
    "    3 C u1 p0 c0 {1,S} {8,S} {9,S}\n",
    "    4 C u0 p0 c0 {2,D} {10,S} {11,S}\n",
    "    5 H u0 p0 c0 {1,S}\n",
    "    6 H u0 p0 c0 {1,S}\n",
    "    7 H u0 p0 c0 {2,S}\n",
    "    8 H u0 p0 c0 {3,S}\n",
    "    9 H u0 p0 c0 {3,S}\n",
    "    10 H u0 p0 c0 {4,S}\n",
    "    11 H u0 p0 c0 {4,S}\n",
    "    \"\"\"\n",
    "pentenyl_adj_list = \"\"\"\n",
    "    multiplicity 2\n",
    "    1 C u0 p0 c0 {2,S} {3,S} {8,S} {9,S}\n",
    "    2 C u0 p0 c0 {1,S} {4,S} {6,S} {7,S}\n",
    "    3 C u0 p0 c0 {1,S} {5,D} {10,S}\n",
    "    4 C u1 p0 c0 {2,S} {11,S} {12,S}\n",
    "    5 C u0 p0 c0 {3,D} {13,S} {14,S}\n",
    "    6 H u0 p0 c0 {2,S}\n",
    "    7 H u0 p0 c0 {2,S}\n",
    "    8 H u0 p0 c0 {1,S}\n",
    "    9 H u0 p0 c0 {1,S}\n",
    "    10 H u0 p0 c0 {3,S}\n",
    "    11 H u0 p0 c0 {4,S}\n",
    "    12 H u0 p0 c0 {4,S}\n",
    "    13 H u0 p0 c0 {5,S}\n",
    "    14 H u0 p0 c0 {5,S}  \n",
    "    \"\"\"\n",
    "\n",
    "family = database.kinetics.families[rxn_family_str]\n",
    "\n",
    "# get reaction objects and their degeneracy\n",
    "pb_degeneracy, pb_reactions = find_reaction_degeneracy([butenyl_adj_list,pentenyl_adj_list],rxn_family_str, num_independent_reactions=4)\n",
    "\n",
    "# find the correct reaction from the list\n",
    "asymmetric_product = Molecule().fromAdjacencyList('''\n",
    "    multiplicity 3\n",
    "    1 C u0 p0 c0 {2,S} {3,S} {7,S} {10,S}\n",
    "    2 C u0 p0 c0 {1,S} {5,S} {11,S} {12,S}\n",
    "    3 C u0 p0 c0 {1,S} {4,S} {13,S} {14,S}\n",
    "    4 C u0 p0 c0 {3,S} {6,S} {17,S} {18,S}\n",
    "    5 C u0 p0 c0 {2,S} {8,S} {15,S} {16,S}\n",
    "    6 C u0 p0 c0 {4,S} {9,D} {19,S}\n",
    "    7 C u1 p0 c0 {1,S} {22,S} {23,S}\n",
    "    8 C u1 p0 c0 {5,S} {20,S} {21,S}\n",
    "    9 C u0 p0 c0 {6,D} {24,S} {25,S}\n",
    "    10 H u0 p0 c0 {1,S}\n",
    "    11 H u0 p0 c0 {2,S}\n",
    "    12 H u0 p0 c0 {2,S}\n",
    "    13 H u0 p0 c0 {3,S}\n",
    "    14 H u0 p0 c0 {3,S}\n",
    "    15 H u0 p0 c0 {5,S}\n",
    "    16 H u0 p0 c0 {5,S}\n",
    "    17 H u0 p0 c0 {4,S}\n",
    "    18 H u0 p0 c0 {4,S}\n",
    "    19 H u0 p0 c0 {6,S}\n",
    "    20 H u0 p0 c0 {8,S}\n",
    "    21 H u0 p0 c0 {8,S}\n",
    "    22 H u0 p0 c0 {7,S}\n",
    "    23 H u0 p0 c0 {7,S}\n",
    "    24 H u0 p0 c0 {9,S}\n",
    "    25 H u0 p0 c0 {9,S}\n",
    "    ''')\n",
    "\n",
    "pb_reaction = next((reaction for reaction in pb_reactions if reaction.products[0].isIsomorphic(asymmetric_product)),None)\n",
    "\n"
   ]
  },
  {
   "cell_type": "code",
   "execution_count": 6,
   "metadata": {
    "collapsed": false
   },
   "outputs": [
    {
     "data": {
      "image/png": "[encoded data removed]",
      "text/plain": [
       "Reaction(reactants=[Molecule(SMILES=\"[CH2]CC=C\"), Molecule(SMILES=\"[CH2]CCC=C\")], products=[Molecule(SMILES=\"[CH2]CCC([CH2])CCC=C\")], pairs=[[Molecule(SMILES=\"[CH2]CC=C\"), Molecule(SMILES=\"[CH2]CCC([CH2])CCC=C\")], [Molecule(SMILES=\"[CH2]CCC=C\"), Molecule(SMILES=\"[CH2]CCC([CH2])CCC=C\")]])"
      ]
     },
     "execution_count": 6,
     "metadata": {},
     "output_type": "execute_result"
    }
   ],
   "source": [
    "pb_reaction"
   ]
  },
  {
   "cell_type": "code",
   "execution_count": 7,
   "metadata": {
    "collapsed": false
   },
   "outputs": [
    {
     "ename": "Exception",
     "evalue": "Something wrong with products that RMG cannot find a match!",
     "output_type": "error",
     "traceback": [
      "\u001b[0;31m---------------------------------------------------------------------------\u001b[0m",
      "\u001b[0;31mException\u001b[0m                                 Traceback (most recent call last)",
      "\u001b[0;32m<ipython-input-7-74e29429532a>\u001b[0m in \u001b[0;36m<module>\u001b[0;34m()\u001b[0m\n\u001b[0;32m----> 1\u001b[0;31m \u001b[0mfamily\u001b[0m\u001b[0;34m.\u001b[0m\u001b[0maddAtomLabelsForReaction\u001b[0m\u001b[0;34m(\u001b[0m\u001b[0mpb_reaction\u001b[0m\u001b[0;34m)\u001b[0m\u001b[0;34m\u001b[0m\u001b[0m\n\u001b[0m",
      "\u001b[0;32m/home/mark/workspace/RMG-Py/rmgpy/data/kinetics/family.pyc\u001b[0m in \u001b[0;36maddAtomLabelsForReaction\u001b[0;34m(self, reaction)\u001b[0m\n\u001b[1;32m   1926\u001b[0m         \u001b[0mproducts\u001b[0m \u001b[0;34m=\u001b[0m \u001b[0mreaction\u001b[0m\u001b[0;34m.\u001b[0m\u001b[0mproducts\u001b[0m\u001b[0;34m[\u001b[0m\u001b[0;34m:\u001b[0m\u001b[0;34m]\u001b[0m\u001b[0;34m\u001b[0m\u001b[0m\n\u001b[1;32m   1927\u001b[0m \u001b[0;34m\u001b[0m\u001b[0m\n\u001b[0;32m-> 1928\u001b[0;31m         \u001b[0mlabeledReactants\u001b[0m\u001b[0;34m,\u001b[0m \u001b[0mlabeledProducts\u001b[0m \u001b[0;34m=\u001b[0m \u001b[0mself\u001b[0m\u001b[0;34m.\u001b[0m\u001b[0mgetLabeledReactantsAndProducts\u001b[0m\u001b[0;34m(\u001b[0m\u001b[0mreactants\u001b[0m\u001b[0;34m,\u001b[0m \u001b[0mproducts\u001b[0m\u001b[0;34m)\u001b[0m\u001b[0;34m\u001b[0m\u001b[0m\n\u001b[0m\u001b[1;32m   1929\u001b[0m         \u001b[0;32mif\u001b[0m \u001b[0;32mnot\u001b[0m \u001b[0mlabeledReactants\u001b[0m \u001b[0;32mand\u001b[0m \u001b[0;32mnot\u001b[0m \u001b[0mlabeledProducts\u001b[0m\u001b[0;34m:\u001b[0m\u001b[0;34m\u001b[0m\u001b[0m\n\u001b[1;32m   1930\u001b[0m             \u001b[0;32mif\u001b[0m \u001b[0mlen\u001b[0m\u001b[0;34m(\u001b[0m\u001b[0mreactants\u001b[0m\u001b[0;34m)\u001b[0m \u001b[0;34m>\u001b[0m \u001b[0;36m1\u001b[0m\u001b[0;34m:\u001b[0m\u001b[0;34m\u001b[0m\u001b[0m\n",
      "\u001b[0;32m/home/mark/workspace/RMG-Py/rmgpy/data/kinetics/family.pyc\u001b[0m in \u001b[0;36mgetLabeledReactantsAndProducts\u001b[0;34m(self, reactants, products)\u001b[0m\n\u001b[1;32m   1912\u001b[0m             \u001b[0;31m# raise exception\u001b[0m\u001b[0;34m\u001b[0m\u001b[0;34m\u001b[0m\u001b[0m\n\u001b[1;32m   1913\u001b[0m             \u001b[0;32mif\u001b[0m \u001b[0mlen\u001b[0m\u001b[0;34m(\u001b[0m\u001b[0mmappingsA\u001b[0m\u001b[0;34m)\u001b[0m\u001b[0;34m*\u001b[0m\u001b[0mlen\u001b[0m\u001b[0;34m(\u001b[0m\u001b[0mmappingsB\u001b[0m\u001b[0;34m)\u001b[0m \u001b[0;34m>\u001b[0m \u001b[0;36m0\u001b[0m\u001b[0;34m:\u001b[0m\u001b[0;34m\u001b[0m\u001b[0m\n\u001b[0;32m-> 1914\u001b[0;31m                 \u001b[0;32mraise\u001b[0m \u001b[0mException\u001b[0m\u001b[0;34m(\u001b[0m\u001b[0;34m'Something wrong with products that RMG cannot find a match!'\u001b[0m\u001b[0;34m)\u001b[0m\u001b[0;34m\u001b[0m\u001b[0m\n\u001b[0m\u001b[1;32m   1915\u001b[0m             \u001b[0;32mreturn\u001b[0m \u001b[0;34m(\u001b[0m\u001b[0mNone\u001b[0m\u001b[0;34m,\u001b[0m \u001b[0mNone\u001b[0m\u001b[0;34m)\u001b[0m\u001b[0;34m\u001b[0m\u001b[0m\n\u001b[1;32m   1916\u001b[0m         \u001b[0;32melse\u001b[0m\u001b[0;34m:\u001b[0m\u001b[0;34m\u001b[0m\u001b[0m\n",
      "\u001b[0;31mException\u001b[0m: Something wrong with products that RMG cannot find a match!"
     ]
    }
   ],
   "source": [
    "family.addAtomLabelsForReaction(pb_reaction)"
   ]
  },
  {
   "cell_type": "code",
   "execution_count": 8,
   "metadata": {
    "collapsed": false
   },
   "outputs": [
    {
     "data": {
      "text/plain": [
       "['Cds-CsH_Cds-HH', 'CsJ-CsHH']"
      ]
     },
     "execution_count": 8,
     "metadata": {},
     "output_type": "execute_result"
    }
   ],
   "source": [
    "pb_reaction.template"
   ]
  },
  {
   "cell_type": "code",
   "execution_count": null,
   "metadata": {
    "collapsed": true
   },
   "outputs": [],
   "source": []
  }
 ],
 "metadata": {
  "anaconda-cloud": {},
  "kernelspec": {
   "display_name": "Python 2",
   "language": "python",
   "name": "python2"
  },
  "language_info": {
   "codemirror_mode": {
    "name": "ipython",
    "version": 2
   },
   "file_extension": ".py",
   "mimetype": "text/x-python",
   "name": "python",
   "nbconvert_exporter": "python",
   "pygments_lexer": "ipython2",
   "version": "2.7.12"
  },
  "toc": {
   "colors": {
    "hover_highlight": "#DAA520",
    "running_highlight": "#FF0000",
    "selected_highlight": "#FFD700"
   },
   "moveMenuLeft": true,
   "nav_menu": {
    "height": "100px",
    "width": "252px"
   },
   "navigate_menu": true,
   "number_sections": true,
   "sideBar": true,
   "threshold": 4,
   "toc_cell": false,
   "toc_section_display": "block",
   "toc_window_display": false
  }
 },
 "nbformat": 4,
 "nbformat_minor": 2
}
