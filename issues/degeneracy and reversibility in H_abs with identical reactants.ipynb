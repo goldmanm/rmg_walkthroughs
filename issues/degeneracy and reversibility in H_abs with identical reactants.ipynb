{
 "cells": [
  {
   "cell_type": "markdown",
   "metadata": {
    "toc": "true"
   },
   "source": [
    "# Table of Contents\n",
    " <p><div class=\"lev1 toc-item\"><a href=\"#load-necessary-information\" data-toc-modified-id=\"load-necessary-information-1\"><span class=\"toc-item-num\">1&nbsp;&nbsp;</span>load necessary information</a></div><div class=\"lev1 toc-item\"><a href=\"#let's-look-at-an-example\" data-toc-modified-id=\"let's-look-at-an-example-2\"><span class=\"toc-item-num\">2&nbsp;&nbsp;</span>let's look at an example</a></div><div class=\"lev2 toc-item\"><a href=\"#compounds\" data-toc-modified-id=\"compounds-21\"><span class=\"toc-item-num\">2.1&nbsp;&nbsp;</span>compounds</a></div><div class=\"lev2 toc-item\"><a href=\"#forward-reaction\" data-toc-modified-id=\"forward-reaction-22\"><span class=\"toc-item-num\">2.2&nbsp;&nbsp;</span>forward reaction</a></div><div class=\"lev2 toc-item\"><a href=\"#reverse-reaction\" data-toc-modified-id=\"reverse-reaction-23\"><span class=\"toc-item-num\">2.3&nbsp;&nbsp;</span>reverse reaction</a></div><div class=\"lev2 toc-item\"><a href=\"#check-if-two-rates-are-equal\" data-toc-modified-id=\"check-if-two-rates-are-equal-24\"><span class=\"toc-item-num\">2.4&nbsp;&nbsp;</span>check if two rates are equal</a></div><div class=\"lev2 toc-item\"><a href=\"#causes-of-the-difference\" data-toc-modified-id=\"causes-of-the-difference-25\"><span class=\"toc-item-num\">2.5&nbsp;&nbsp;</span>causes of the difference</a></div>"
   ]
  },
  {
   "cell_type": "markdown",
   "metadata": {},
   "source": [
    "This notebook looks at how RMG finds degeneracy for double H_abstraction reactions where the products have identical reactants. It seeks to answer the question: Is degeneracy properly calculated when both products are the same. "
   ]
  },
  {
   "cell_type": "markdown",
   "metadata": {},
   "source": [
    "# load necessary information"
   ]
  },
  {
   "cell_type": "code",
   "execution_count": 1,
   "metadata": {
    "collapsed": false
   },
   "outputs": [],
   "source": [
    "import rmgpy.molecule\n",
    "from rmgpy.molecule.symmetry import calculateCyclicSymmetryNumber\n",
    "from rmgpy.molecule.molecule import Atom, Bond, Molecule\n",
    "from rmgpy.species import Species\n",
    "from rmgpy.data.kinetics.family import TemplateReaction\n",
    "from rmgpy.reaction import Reaction\n",
    "from rmgpy.data.base import ForbiddenStructures"
   ]
  },
  {
   "cell_type": "code",
   "execution_count": 2,
   "metadata": {
    "collapsed": false
   },
   "outputs": [],
   "source": [
    "from rmgpy.data.rmg import RMGDatabase\n",
    "from rmgpy import settings\n",
    "database = RMGDatabase()\n",
    "database.load(\n",
    "    path = settings['database.directory'], \n",
    "    thermoLibraries = ['primaryThermoLibrary'], # can add others if necessary\n",
    "    kineticsFamilies=['H_Abstraction'],\n",
    "    kineticsDepositories = 'all'\n",
    ")\n",
    "for family in database.kinetics.families.values():\n",
    "    family.addKineticsRulesFromTrainingSet(thermoDatabase=database.thermo)\n",
    "    family.fillKineticsRulesByAveragingUp(verbose=True)\n"
   ]
  },
  {
   "cell_type": "code",
   "execution_count": 3,
   "metadata": {
    "collapsed": true
   },
   "outputs": [],
   "source": [
    "# remove all forbidden structures\n",
    "family = database.kinetics.families['H_Abstraction']\n",
    "family.forbidden = ForbiddenStructures()"
   ]
  },
  {
   "cell_type": "markdown",
   "metadata": {},
   "source": [
    "# let's look at an example"
   ]
  },
  {
   "cell_type": "markdown",
   "metadata": {},
   "source": [
    "## compounds"
   ]
  },
  {
   "cell_type": "code",
   "execution_count": 4,
   "metadata": {
    "collapsed": true
   },
   "outputs": [],
   "source": [
    "ethyl = Molecule().fromSMILES('[CH2]C')\n",
    "diethyl = Molecule().fromSMILES('[CH2][CH2]')\n",
    "ethane = Molecule().fromSMILES('CC')"
   ]
  },
  {
   "cell_type": "markdown",
   "metadata": {},
   "source": [
    "## forward reaction\n",
    "This reaction has involves three species, the first one is the product twice"
   ]
  },
  {
   "cell_type": "code",
   "execution_count": 5,
   "metadata": {
    "collapsed": false
   },
   "outputs": [
    {
     "ename": "NameError",
     "evalue": "name 'ethanle' is not defined",
     "output_type": "error",
     "traceback": [
      "\u001b[0;31m---------------------------------------------------------------------------\u001b[0m",
      "\u001b[0;31mNameError\u001b[0m                                 Traceback (most recent call last)",
      "\u001b[0;32m<ipython-input-5-504905d77f86>\u001b[0m in \u001b[0;36m<module>\u001b[0;34m()\u001b[0m\n\u001b[0;32m----> 1\u001b[0;31m \u001b[0mreactions\u001b[0m \u001b[0;34m=\u001b[0m \u001b[0mfamily\u001b[0m\u001b[0;34m.\u001b[0m\u001b[0mgenerateReactions\u001b[0m\u001b[0;34m(\u001b[0m\u001b[0mreactants\u001b[0m\u001b[0;34m=\u001b[0m\u001b[0;34m[\u001b[0m\u001b[0mdiethyl\u001b[0m\u001b[0;34m,\u001b[0m\u001b[0methanle\u001b[0m\u001b[0;34m]\u001b[0m\u001b[0;34m)\u001b[0m\u001b[0;34m\u001b[0m\u001b[0m\n\u001b[0m\u001b[1;32m      2\u001b[0m \u001b[0;31m# remove products that don't match\u001b[0m\u001b[0;34m\u001b[0m\u001b[0;34m\u001b[0m\u001b[0m\n\u001b[1;32m      3\u001b[0m \u001b[0;32mfor\u001b[0m \u001b[0mrxn\u001b[0m \u001b[0;32min\u001b[0m \u001b[0mreactions\u001b[0m\u001b[0;34m:\u001b[0m\u001b[0;34m\u001b[0m\u001b[0m\n\u001b[1;32m      4\u001b[0m     \u001b[0;32mif\u001b[0m \u001b[0many\u001b[0m\u001b[0;34m(\u001b[0m\u001b[0;34m[\u001b[0m\u001b[0methyl\u001b[0m\u001b[0;34m.\u001b[0m\u001b[0misIsomorphic\u001b[0m\u001b[0;34m(\u001b[0m\u001b[0mproduct\u001b[0m\u001b[0;34m)\u001b[0m \u001b[0;32mfor\u001b[0m \u001b[0mproduct\u001b[0m \u001b[0;32min\u001b[0m \u001b[0mrxn\u001b[0m\u001b[0;34m.\u001b[0m\u001b[0mproducts\u001b[0m\u001b[0;34m]\u001b[0m\u001b[0;34m)\u001b[0m\u001b[0;34m:\u001b[0m\u001b[0;34m\u001b[0m\u001b[0m\n\u001b[1;32m      5\u001b[0m         \u001b[0mdesiredReaction\u001b[0m \u001b[0;34m=\u001b[0m \u001b[0mrxn\u001b[0m\u001b[0;34m\u001b[0m\u001b[0m\n",
      "\u001b[0;31mNameError\u001b[0m: name 'ethanle' is not defined"
     ]
    }
   ],
   "source": [
    "reactions = family.generateReactions(reactants=[diethyl,ethanle])\n",
    "# remove products that don't match\n",
    "for rxn in reactions:\n",
    "    if any([ethyl.isIsomorphic(product) for product in rxn.products]):\n",
    "        desiredReaction = rxn\n",
    "        print rxn"
   ]
  },
  {
   "cell_type": "code",
   "execution_count": null,
   "metadata": {
    "collapsed": false
   },
   "outputs": [],
   "source": [
    "desiredReaction"
   ]
  },
  {
   "cell_type": "code",
   "execution_count": null,
   "metadata": {
    "collapsed": true
   },
   "outputs": [],
   "source": [
    "template = family.retrieveTemplate(desiredReaction.template)\n",
    "desiredReaction.kinetics = family.getKineticsForTemplate(template, degeneracy = desiredReaction.degeneracy)[0]\n",
    "#convert ArrheniusEP to Arrhenius\n",
    "desiredReaction.kinetics = desiredReaction.kinetics.toArrhenius(desiredReaction.getEnthalpyOfReaction(298))\n",
    "reverse_kinetics = desiredReaction.generateReverseRateCoefficient()"
   ]
  },
  {
   "cell_type": "code",
   "execution_count": null,
   "metadata": {
    "collapsed": false
   },
   "outputs": [],
   "source": [
    "forward = desiredReaction"
   ]
  },
  {
   "cell_type": "markdown",
   "metadata": {},
   "source": [
    "## reverse reaction\n",
    "This reaction has involves three species, the first one reacts with itself in an identical way"
   ]
  },
  {
   "cell_type": "code",
   "execution_count": null,
   "metadata": {
    "collapsed": false
   },
   "outputs": [],
   "source": [
    "reactions = family.generateReactions(reactants=[ethyl,ethyl.copy(deep=True)])\n",
    "for rxn in reactions:\n",
    "    if any([diethyl.isIsomorphic(product) for product in rxn.products]):\n",
    "        if any([ethane.isIsomorphic(product) for product in rxn.products]):\n",
    "            desiredReaction = rxn\n",
    "            print rxn"
   ]
  },
  {
   "cell_type": "code",
   "execution_count": null,
   "metadata": {
    "collapsed": false
   },
   "outputs": [],
   "source": [
    "desiredReaction"
   ]
  },
  {
   "cell_type": "code",
   "execution_count": null,
   "metadata": {
    "collapsed": true
   },
   "outputs": [],
   "source": [
    "template = family.retrieveTemplate(desiredReaction.template)\n",
    "desiredReaction.kinetics = family.getKineticsForTemplate(template, degeneracy = desiredReaction.degeneracy)[0]\n",
    "#convert ArrheniusEP to Arrhenius\n",
    "desiredReaction.kinetics = desiredReaction.kinetics.toArrhenius(desiredReaction.getEnthalpyOfReaction(298))\n",
    "forward_kinetics = desiredReaction.generateReverseRateCoefficient()"
   ]
  },
  {
   "cell_type": "code",
   "execution_count": null,
   "metadata": {
    "collapsed": true
   },
   "outputs": [],
   "source": [
    "reverse = desiredReaction"
   ]
  },
  {
   "cell_type": "markdown",
   "metadata": {},
   "source": [
    "## check if two rates are equal"
   ]
  },
  {
   "cell_type": "code",
   "execution_count": null,
   "metadata": {
    "collapsed": false,
    "scrolled": true
   },
   "outputs": [],
   "source": [
    "abs(reverse_kinetics.getRateCoefficient(298) - reverse.kinetics.getRateCoefficient(298)) < 1e-7"
   ]
  },
  {
   "cell_type": "code",
   "execution_count": null,
   "metadata": {
    "collapsed": false,
    "scrolled": true
   },
   "outputs": [],
   "source": [
    "abs(forward_kinetics.getRateCoefficient(298) - forward.kinetics.getRateCoefficient(298)) < 1e-7"
   ]
  },
  {
   "cell_type": "markdown",
   "metadata": {},
   "source": [
    "**the rates are NOT equal. They are off by a factor of 4** "
   ]
  },
  {
   "cell_type": "code",
   "execution_count": null,
   "metadata": {
    "collapsed": false
   },
   "outputs": [],
   "source": [
    "forward.kinetics.getRateCoefficient(298)"
   ]
  },
  {
   "cell_type": "code",
   "execution_count": null,
   "metadata": {
    "collapsed": false
   },
   "outputs": [],
   "source": [
    "reverse.kinetics.getRateCoefficient(298)"
   ]
  },
  {
   "cell_type": "markdown",
   "metadata": {
    "collapsed": true
   },
   "source": [
    "## causes of the difference"
   ]
  },
  {
   "cell_type": "code",
   "execution_count": null,
   "metadata": {
    "collapsed": false
   },
   "outputs": [],
   "source": [
    "forward.degeneracy"
   ]
  },
  {
   "cell_type": "code",
   "execution_count": null,
   "metadata": {
    "collapsed": false
   },
   "outputs": [],
   "source": [
    "reverse.degeneracy"
   ]
  },
  {
   "cell_type": "code",
   "execution_count": null,
   "metadata": {
    "collapsed": false
   },
   "outputs": [],
   "source": [
    "forward.template"
   ]
  },
  {
   "cell_type": "code",
   "execution_count": null,
   "metadata": {
    "collapsed": false
   },
   "outputs": [],
   "source": [
    "reverse.template"
   ]
  },
  {
   "cell_type": "code",
   "execution_count": null,
   "metadata": {
    "collapsed": true
   },
   "outputs": [],
   "source": []
  }
 ],
 "metadata": {
  "anaconda-cloud": {},
  "kernelspec": {
   "display_name": "Python 2",
   "language": "python",
   "name": "python2"
  },
  "language_info": {
   "codemirror_mode": {
    "name": "ipython",
    "version": 2
   },
   "file_extension": ".py",
   "mimetype": "text/x-python",
   "name": "python",
   "nbconvert_exporter": "python",
   "pygments_lexer": "ipython2",
   "version": "2.7.13"
  },
  "toc": {
   "colors": {
    "hover_highlight": "#DAA520",
    "running_highlight": "#FF0000",
    "selected_highlight": "#FFD700"
   },
   "moveMenuLeft": true,
   "nav_menu": {
    "height": "65px",
    "width": "253px"
   },
   "navigate_menu": true,
   "number_sections": true,
   "sideBar": true,
   "threshold": 4,
   "toc_cell": true,
   "toc_section_display": "block",
   "toc_window_display": true
  }
 },
 "nbformat": 4,
 "nbformat_minor": 1
}
