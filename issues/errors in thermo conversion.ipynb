{
 "cells": [
  {
   "cell_type": "markdown",
   "metadata": {
    "toc": "true"
   },
   "source": [
    "# Table of Contents\n",
    " <p>"
   ]
  },
  {
   "cell_type": "code",
   "execution_count": 15,
   "metadata": {
    "collapsed": true
   },
   "outputs": [],
   "source": [
    "from rmgpy.thermo.wilhoit import Wilhoit\n",
    "from rmgpy import constants\n",
    "import pandas as pd\n",
    "import numpy as np\n",
    "%matplotlib inline\n",
    "import matplotlib.pyplot as plt"
   ]
  },
  {
   "cell_type": "code",
   "execution_count": 2,
   "metadata": {
    "collapsed": true
   },
   "outputs": [],
   "source": [
    "wilhoit = Wilhoit(\n",
    "            Cp0 = (4.0*constants.R,\"J/(mol*K)\"),\n",
    "            CpInf = (21.5*constants.R,\"J/(mol*K)\"),\n",
    "            a0 = 0.0977518,\n",
    "            a1 = -16.3067,\n",
    "            a2 = 26.2524,\n",
    "            a3 = -12.6785,\n",
    "            B = (1068.68,\"K\"),\n",
    "            H0 = (-94.088*constants.R,\"kJ/mol\"),\n",
    "            S0 = (-118.46*constants.R,\"J/(mol*K)\"),\n",
    "            Tmin = (10,\"K\"),\n",
    "            Tmax = (3000,\"K\"),\n",
    "            comment = 'C2H6',\n",
    "        )"
   ]
  },
  {
   "cell_type": "code",
   "execution_count": 7,
   "metadata": {
    "collapsed": true
   },
   "outputs": [],
   "source": [
    "nasa = wilhoit.toNASA(Tmin=10,Tmax=3000, Tint=1000)"
   ]
  },
  {
   "cell_type": "code",
   "execution_count": 8,
   "metadata": {},
   "outputs": [],
   "source": [
    "output_error = pd.DataFrame(index = ['cp','h','s'])\n",
    "Tlist = np.arange(10, 3000, 10)\n",
    "for T in Tlist:\n",
    "    differences = {}\n",
    "    Cp_wilhoit = wilhoit.getHeatCapacity(T)\n",
    "    Cp_nasa = nasa.getHeatCapacity(T)\n",
    "    differences['cp'] = (Cp_nasa-Cp_wilhoit) / Cp_wilhoit\n",
    "    \n",
    "    H_wilhoit = wilhoit.getEnthalpy(T)\n",
    "    H_nasa = nasa.getEnthalpy(T)\n",
    "    differences['h'] = (H_nasa - H_wilhoit) / H_wilhoit\n",
    "    \n",
    "    S_wilhoit = wilhoit.getEntropy(T)\n",
    "    S_nasa = nasa.getEntropy(T)\n",
    "    differences['s'] = (S_nasa - S_wilhoit) / S_wilhoit\n",
    "    \n",
    "    output_error[T] = pd.Series(differences)\n"
   ]
  },
  {
   "cell_type": "code",
   "execution_count": 10,
   "metadata": {},
   "outputs": [
    {
     "data": {
      "text/html": [
       "<div>\n",
       "<table border=\"1\" class=\"dataframe\">\n",
       "  <thead>\n",
       "    <tr style=\"text-align: right;\">\n",
       "      <th></th>\n",
       "      <th>10</th>\n",
       "      <th>20</th>\n",
       "      <th>30</th>\n",
       "      <th>40</th>\n",
       "      <th>50</th>\n",
       "      <th>60</th>\n",
       "      <th>70</th>\n",
       "      <th>80</th>\n",
       "      <th>90</th>\n",
       "      <th>100</th>\n",
       "      <th>...</th>\n",
       "      <th>2900</th>\n",
       "      <th>2910</th>\n",
       "      <th>2920</th>\n",
       "      <th>2930</th>\n",
       "      <th>2940</th>\n",
       "      <th>2950</th>\n",
       "      <th>2960</th>\n",
       "      <th>2970</th>\n",
       "      <th>2980</th>\n",
       "      <th>2990</th>\n",
       "    </tr>\n",
       "  </thead>\n",
       "  <tbody>\n",
       "    <tr>\n",
       "      <th>cp</th>\n",
       "      <td>0.003102</td>\n",
       "      <td>0.000442</td>\n",
       "      <td>-0.001187</td>\n",
       "      <td>-0.002036</td>\n",
       "      <td>-0.002310</td>\n",
       "      <td>-0.002181</td>\n",
       "      <td>-0.001787</td>\n",
       "      <td>-0.001238</td>\n",
       "      <td>-0.000619</td>\n",
       "      <td>0.000005</td>\n",
       "      <td>...</td>\n",
       "      <td>-0.000104</td>\n",
       "      <td>-0.000178</td>\n",
       "      <td>-0.000258</td>\n",
       "      <td>-0.000344</td>\n",
       "      <td>-0.000436</td>\n",
       "      <td>-0.000534</td>\n",
       "      <td>-0.000639</td>\n",
       "      <td>-7.502750e-04</td>\n",
       "      <td>-0.000868</td>\n",
       "      <td>-0.000993</td>\n",
       "    </tr>\n",
       "    <tr>\n",
       "      <th>h</th>\n",
       "      <td>0.000051</td>\n",
       "      <td>0.000045</td>\n",
       "      <td>0.000047</td>\n",
       "      <td>0.000053</td>\n",
       "      <td>0.000062</td>\n",
       "      <td>0.000070</td>\n",
       "      <td>0.000078</td>\n",
       "      <td>0.000084</td>\n",
       "      <td>0.000088</td>\n",
       "      <td>0.000089</td>\n",
       "      <td>...</td>\n",
       "      <td>0.000017</td>\n",
       "      <td>0.000016</td>\n",
       "      <td>0.000015</td>\n",
       "      <td>0.000013</td>\n",
       "      <td>0.000011</td>\n",
       "      <td>0.000008</td>\n",
       "      <td>0.000004</td>\n",
       "      <td>-1.231670e-07</td>\n",
       "      <td>-0.000005</td>\n",
       "      <td>-0.000010</td>\n",
       "    </tr>\n",
       "    <tr>\n",
       "      <th>s</th>\n",
       "      <td>-0.000163</td>\n",
       "      <td>0.000192</td>\n",
       "      <td>0.000136</td>\n",
       "      <td>0.000024</td>\n",
       "      <td>-0.000081</td>\n",
       "      <td>-0.000162</td>\n",
       "      <td>-0.000219</td>\n",
       "      <td>-0.000253</td>\n",
       "      <td>-0.000268</td>\n",
       "      <td>-0.000269</td>\n",
       "      <td>...</td>\n",
       "      <td>-0.000029</td>\n",
       "      <td>-0.000029</td>\n",
       "      <td>-0.000029</td>\n",
       "      <td>-0.000030</td>\n",
       "      <td>-0.000030</td>\n",
       "      <td>-0.000031</td>\n",
       "      <td>-0.000031</td>\n",
       "      <td>-3.203994e-05</td>\n",
       "      <td>-0.000033</td>\n",
       "      <td>-0.000034</td>\n",
       "    </tr>\n",
       "  </tbody>\n",
       "</table>\n",
       "<p>3 rows × 299 columns</p>\n",
       "</div>"
      ],
      "text/plain": [
       "        10        20        30        40        50        60        70    \\\n",
       "cp  0.003102  0.000442 -0.001187 -0.002036 -0.002310 -0.002181 -0.001787   \n",
       "h   0.000051  0.000045  0.000047  0.000053  0.000062  0.000070  0.000078   \n",
       "s  -0.000163  0.000192  0.000136  0.000024 -0.000081 -0.000162 -0.000219   \n",
       "\n",
       "        80        90        100     ...         2900      2910      2920  \\\n",
       "cp -0.001238 -0.000619  0.000005    ...    -0.000104 -0.000178 -0.000258   \n",
       "h   0.000084  0.000088  0.000089    ...     0.000017  0.000016  0.000015   \n",
       "s  -0.000253 -0.000268 -0.000269    ...    -0.000029 -0.000029 -0.000029   \n",
       "\n",
       "        2930      2940      2950      2960          2970      2980      2990  \n",
       "cp -0.000344 -0.000436 -0.000534 -0.000639 -7.502750e-04 -0.000868 -0.000993  \n",
       "h   0.000013  0.000011  0.000008  0.000004 -1.231670e-07 -0.000005 -0.000010  \n",
       "s  -0.000030 -0.000030 -0.000031 -0.000031 -3.203994e-05 -0.000033 -0.000034  \n",
       "\n",
       "[3 rows x 299 columns]"
      ]
     },
     "execution_count": 10,
     "metadata": {},
     "output_type": "execute_result"
    }
   ],
   "source": [
    "output_error"
   ]
  },
  {
   "cell_type": "code",
   "execution_count": 16,
   "metadata": {
    "scrolled": true
   },
   "outputs": [
    {
     "data": {
      "text/plain": [
       "<matplotlib.text.Text at 0x7f7e1c623b90>"
      ]
     },
     "execution_count": 16,
     "metadata": {},
     "output_type": "execute_result"
    },
    {
     "data": {
      "image/png": "[encoded data removed]",
      "text/plain": [
       "<matplotlib.figure.Figure at 0x7f7e1c804410>"
      ]
     },
     "metadata": {},
     "output_type": "display_data"
    }
   ],
   "source": [
    "output_error.T.plot()\n",
    "plt.xlabel('temperature (K)')\n",
    "plt.ylabel('relative error from conversion')"
   ]
  },
  {
   "cell_type": "code",
   "execution_count": null,
   "metadata": {
    "collapsed": true
   },
   "outputs": [],
   "source": []
  }
 ],
 "metadata": {
  "kernelspec": {
   "display_name": "Python 2",
   "language": "python",
   "name": "python2"
  },
  "language_info": {
   "codemirror_mode": {
    "name": "ipython",
    "version": 2
   },
   "file_extension": ".py",
   "mimetype": "text/x-python",
   "name": "python",
   "nbconvert_exporter": "python",
   "pygments_lexer": "ipython2",
   "version": "2.7.13"
  },
  "toc": {
   "nav_menu": {
    "height": "4px",
    "width": "254px"
   },
   "navigate_menu": true,
   "number_sections": true,
   "sideBar": true,
   "threshold": 4,
   "toc_cell": true,
   "toc_section_display": "block",
   "toc_window_display": true
  }
 },
 "nbformat": 4,
 "nbformat_minor": 2
}
